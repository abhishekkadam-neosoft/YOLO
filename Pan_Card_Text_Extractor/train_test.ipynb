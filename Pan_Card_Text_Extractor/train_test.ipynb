{
 "cells": [
  {
   "cell_type": "code",
   "execution_count": 1,
   "metadata": {},
   "outputs": [
    {
     "name": "stdout",
     "output_type": "stream",
     "text": [
      "True\n",
      "1\n",
      "NVIDIA GeForce GTX 1650\n"
     ]
    }
   ],
   "source": [
    "import torch\n",
    "print(torch.cuda.is_available())  # Check if CUDA GPU is available\n",
    "print(torch.cuda.device_count())  # Number of GPUs\n",
    "print(torch.cuda.get_device_name(0))  # GPU name"
   ]
  },
  {
   "cell_type": "markdown",
   "metadata": {},
   "source": [
    "# Pancard Images"
   ]
  },
  {
   "cell_type": "code",
   "execution_count": null,
   "metadata": {},
   "outputs": [
    {
     "name": "stdout",
     "output_type": "stream",
     "text": [
      "New https://pypi.org/project/ultralytics/8.3.99 available  Update with 'pip install -U ultralytics'\n",
      "Ultralytics 8.3.98  Python-3.10.6 torch-2.5.1+cu121 CUDA:0 (NVIDIA GeForce GTX 1650, 4096MiB)\n",
      "\u001b[34m\u001b[1mengine\\trainer: \u001b[0mtask=detect, mode=train, model=yolo11n.pt, data=C:\\Project\\YOLO\\Pan_Card_Text_Extractor\\Pancard_300\\data.yaml, epochs=50, time=None, patience=100, batch=16, imgsz=640, save=True, save_period=-1, cache=False, device=0, workers=8, project=None, name=train8, exist_ok=False, pretrained=True, optimizer=auto, verbose=True, seed=0, deterministic=True, single_cls=False, rect=False, cos_lr=False, close_mosaic=10, resume=False, amp=True, fraction=1.0, profile=False, freeze=None, multi_scale=False, overlap_mask=True, mask_ratio=4, dropout=0.0, val=True, split=val, save_json=False, save_hybrid=False, conf=None, iou=0.7, max_det=300, half=False, dnn=False, plots=True, source=None, vid_stride=1, stream_buffer=False, visualize=False, augment=False, agnostic_nms=False, classes=None, retina_masks=False, embed=None, show=False, save_frames=False, save_txt=False, save_conf=False, save_crop=False, show_labels=True, show_conf=True, show_boxes=True, line_width=None, format=torchscript, keras=False, optimize=False, int8=False, dynamic=False, simplify=True, opset=None, workspace=None, nms=False, lr0=0.01, lrf=0.01, momentum=0.937, weight_decay=0.0005, warmup_epochs=3.0, warmup_momentum=0.8, warmup_bias_lr=0.1, box=7.5, cls=0.5, dfl=1.5, pose=12.0, kobj=1.0, nbs=64, hsv_h=0.015, hsv_s=0.7, hsv_v=0.4, degrees=0.0, translate=0.1, scale=0.5, shear=0.0, perspective=0.0, flipud=0.0, fliplr=0.5, bgr=0.0, mosaic=1.0, mixup=0.0, copy_paste=0.0, copy_paste_mode=flip, auto_augment=randaugment, erasing=0.4, crop_fraction=1.0, cfg=None, tracker=botsort.yaml, save_dir=runs\\detect\\train8\n",
      "Overriding model.yaml nc=80 with nc=6\n",
      "\n",
      "                   from  n    params  module                                       arguments                     \n",
      "  0                  -1  1       464  ultralytics.nn.modules.conv.Conv             [3, 16, 3, 2]                 \n",
      "  1                  -1  1      4672  ultralytics.nn.modules.conv.Conv             [16, 32, 3, 2]                \n",
      "  2                  -1  1      6640  ultralytics.nn.modules.block.C3k2            [32, 64, 1, False, 0.25]      \n",
      "  3                  -1  1     36992  ultralytics.nn.modules.conv.Conv             [64, 64, 3, 2]                \n",
      "  4                  -1  1     26080  ultralytics.nn.modules.block.C3k2            [64, 128, 1, False, 0.25]     \n",
      "  5                  -1  1    147712  ultralytics.nn.modules.conv.Conv             [128, 128, 3, 2]              \n",
      "  6                  -1  1     87040  ultralytics.nn.modules.block.C3k2            [128, 128, 1, True]           \n",
      "  7                  -1  1    295424  ultralytics.nn.modules.conv.Conv             [128, 256, 3, 2]              \n",
      "  8                  -1  1    346112  ultralytics.nn.modules.block.C3k2            [256, 256, 1, True]           \n",
      "  9                  -1  1    164608  ultralytics.nn.modules.block.SPPF            [256, 256, 5]                 \n",
      " 10                  -1  1    249728  ultralytics.nn.modules.block.C2PSA           [256, 256, 1]                 \n",
      " 11                  -1  1         0  torch.nn.modules.upsampling.Upsample         [None, 2, 'nearest']          \n",
      " 12             [-1, 6]  1         0  ultralytics.nn.modules.conv.Concat           [1]                           \n",
      " 13                  -1  1    111296  ultralytics.nn.modules.block.C3k2            [384, 128, 1, False]          \n",
      " 14                  -1  1         0  torch.nn.modules.upsampling.Upsample         [None, 2, 'nearest']          \n",
      " 15             [-1, 4]  1         0  ultralytics.nn.modules.conv.Concat           [1]                           \n",
      " 16                  -1  1     32096  ultralytics.nn.modules.block.C3k2            [256, 64, 1, False]           \n",
      " 17                  -1  1     36992  ultralytics.nn.modules.conv.Conv             [64, 64, 3, 2]                \n",
      " 18            [-1, 13]  1         0  ultralytics.nn.modules.conv.Concat           [1]                           \n",
      " 19                  -1  1     86720  ultralytics.nn.modules.block.C3k2            [192, 128, 1, False]          \n",
      " 20                  -1  1    147712  ultralytics.nn.modules.conv.Conv             [128, 128, 3, 2]              \n",
      " 21            [-1, 10]  1         0  ultralytics.nn.modules.conv.Concat           [1]                           \n",
      " 22                  -1  1    378880  ultralytics.nn.modules.block.C3k2            [384, 256, 1, True]           \n",
      " 23        [16, 19, 22]  1    431842  ultralytics.nn.modules.head.Detect           [6, [64, 128, 256]]           \n",
      "YOLO11n summary: 181 layers, 2,591,010 parameters, 2,590,994 gradients, 6.4 GFLOPs\n",
      "\n",
      "Transferred 448/499 items from pretrained weights\n",
      "Freezing layer 'model.23.dfl.conv.weight'\n",
      "\u001b[34m\u001b[1mAMP: \u001b[0mchecks failed . AMP training on NVIDIA GeForce GTX 1650 GPU may cause NaN losses or zero-mAP results, so AMP will be disabled during training.\n"
     ]
    },
    {
     "name": "stderr",
     "output_type": "stream",
     "text": [
      "\u001b[34m\u001b[1mtrain: \u001b[0mScanning C:\\Project\\YOLO\\Pan_Card_Text_Extractor\\Pancard_300\\train\\labels... 747 images, 0 backgrounds, 0 corrupt: 100%|██████████| 747/747 [00:01<00:00, 485.60it/s]\n"
     ]
    },
    {
     "name": "stdout",
     "output_type": "stream",
     "text": [
      "\u001b[34m\u001b[1mtrain: \u001b[0mNew cache created: C:\\Project\\YOLO\\Pan_Card_Text_Extractor\\Pancard_300\\train\\labels.cache\n"
     ]
    },
    {
     "name": "stderr",
     "output_type": "stream",
     "text": [
      "\u001b[34m\u001b[1mval: \u001b[0mScanning C:\\Project\\YOLO\\Pan_Card_Text_Extractor\\Pancard_300\\val\\labels... 150 images, 0 backgrounds, 0 corrupt: 100%|██████████| 150/150 [00:00<00:00, 163.28it/s]\n"
     ]
    },
    {
     "name": "stdout",
     "output_type": "stream",
     "text": [
      "\u001b[34m\u001b[1mval: \u001b[0mNew cache created: C:\\Project\\YOLO\\Pan_Card_Text_Extractor\\Pancard_300\\val\\labels.cache\n",
      "Plotting labels to runs\\detect\\train8\\labels.jpg... \n",
      "\u001b[34m\u001b[1moptimizer:\u001b[0m 'optimizer=auto' found, ignoring 'lr0=0.01' and 'momentum=0.937' and determining best 'optimizer', 'lr0' and 'momentum' automatically... \n",
      "\u001b[34m\u001b[1moptimizer:\u001b[0m AdamW(lr=0.001, momentum=0.9) with parameter groups 81 weight(decay=0.0), 88 weight(decay=0.0005), 87 bias(decay=0.0)\n",
      "Image sizes 640 train, 640 val\n",
      "Using 8 dataloader workers\n",
      "Logging results to \u001b[1mruns\\detect\\train8\u001b[0m\n",
      "Starting training for 50 epochs...\n",
      "\n",
      "      Epoch    GPU_mem   box_loss   cls_loss   dfl_loss  Instances       Size\n"
     ]
    },
    {
     "name": "stderr",
     "output_type": "stream",
     "text": [
      "       1/50      4.03G       1.73      3.535      1.547        145        640: 100%|██████████| 47/47 [00:37<00:00,  1.26it/s]\n",
      "                 Class     Images  Instances      Box(P          R      mAP50  mAP50-95): 100%|██████████| 5/5 [00:12<00:00,  2.47s/it]"
     ]
    },
    {
     "name": "stdout",
     "output_type": "stream",
     "text": [
      "                   all        150        870     0.0203      0.796      0.266      0.119\n"
     ]
    },
    {
     "name": "stderr",
     "output_type": "stream",
     "text": [
      "\n"
     ]
    },
    {
     "name": "stdout",
     "output_type": "stream",
     "text": [
      "\n",
      "      Epoch    GPU_mem   box_loss   cls_loss   dfl_loss  Instances       Size\n"
     ]
    },
    {
     "name": "stderr",
     "output_type": "stream",
     "text": [
      "       2/50      3.95G      1.537       2.38      1.384        105        640: 100%|██████████| 47/47 [00:35<00:00,  1.31it/s]\n",
      "                 Class     Images  Instances      Box(P          R      mAP50  mAP50-95): 100%|██████████| 5/5 [00:12<00:00,  2.47s/it]"
     ]
    },
    {
     "name": "stdout",
     "output_type": "stream",
     "text": [
      "                   all        150        870      0.347      0.412      0.395       0.21\n"
     ]
    },
    {
     "name": "stderr",
     "output_type": "stream",
     "text": [
      "\n"
     ]
    },
    {
     "name": "stdout",
     "output_type": "stream",
     "text": [
      "\n",
      "      Epoch    GPU_mem   box_loss   cls_loss   dfl_loss  Instances       Size\n"
     ]
    },
    {
     "name": "stderr",
     "output_type": "stream",
     "text": [
      "       3/50      3.96G      1.453       1.94      1.325        115        640: 100%|██████████| 47/47 [00:33<00:00,  1.41it/s]\n",
      "                 Class     Images  Instances      Box(P          R      mAP50  mAP50-95): 100%|██████████| 5/5 [00:11<00:00,  2.23s/it]"
     ]
    },
    {
     "name": "stdout",
     "output_type": "stream",
     "text": [
      "                   all        150        870      0.603      0.617      0.604      0.318\n"
     ]
    },
    {
     "name": "stderr",
     "output_type": "stream",
     "text": [
      "\n"
     ]
    },
    {
     "name": "stdout",
     "output_type": "stream",
     "text": [
      "\n",
      "      Epoch    GPU_mem   box_loss   cls_loss   dfl_loss  Instances       Size\n"
     ]
    },
    {
     "name": "stderr",
     "output_type": "stream",
     "text": [
      "       4/50      4.06G      1.428      1.738      1.328         80        640: 100%|██████████| 47/47 [01:09<00:00,  1.47s/it]\n",
      "                 Class     Images  Instances      Box(P          R      mAP50  mAP50-95): 100%|██████████| 5/5 [00:14<00:00,  2.87s/it]"
     ]
    },
    {
     "name": "stdout",
     "output_type": "stream",
     "text": [
      "                   all        150        870      0.626      0.683      0.692      0.374\n"
     ]
    },
    {
     "name": "stderr",
     "output_type": "stream",
     "text": [
      "\n"
     ]
    },
    {
     "name": "stdout",
     "output_type": "stream",
     "text": [
      "\n",
      "      Epoch    GPU_mem   box_loss   cls_loss   dfl_loss  Instances       Size\n"
     ]
    },
    {
     "name": "stderr",
     "output_type": "stream",
     "text": [
      "       5/50      4.07G      1.402      1.582      1.298         75        640: 100%|██████████| 47/47 [01:16<00:00,  1.63s/it]\n",
      "                 Class     Images  Instances      Box(P          R      mAP50  mAP50-95): 100%|██████████| 5/5 [00:11<00:00,  2.32s/it]"
     ]
    },
    {
     "name": "stdout",
     "output_type": "stream",
     "text": [
      "                   all        150        870      0.715      0.669       0.73      0.383\n"
     ]
    },
    {
     "name": "stderr",
     "output_type": "stream",
     "text": [
      "\n"
     ]
    },
    {
     "name": "stdout",
     "output_type": "stream",
     "text": [
      "\n",
      "      Epoch    GPU_mem   box_loss   cls_loss   dfl_loss  Instances       Size\n"
     ]
    },
    {
     "name": "stderr",
     "output_type": "stream",
     "text": [
      "       6/50      3.94G      1.354      1.466      1.267        106        640: 100%|██████████| 47/47 [00:35<00:00,  1.33it/s]\n",
      "                 Class     Images  Instances      Box(P          R      mAP50  mAP50-95): 100%|██████████| 5/5 [00:11<00:00,  2.38s/it]"
     ]
    },
    {
     "name": "stdout",
     "output_type": "stream",
     "text": [
      "                   all        150        870      0.684      0.711      0.748      0.416\n"
     ]
    },
    {
     "name": "stderr",
     "output_type": "stream",
     "text": [
      "\n"
     ]
    },
    {
     "name": "stdout",
     "output_type": "stream",
     "text": [
      "\n",
      "      Epoch    GPU_mem   box_loss   cls_loss   dfl_loss  Instances       Size\n"
     ]
    },
    {
     "name": "stderr",
     "output_type": "stream",
     "text": [
      "       7/50      4.06G      1.359      1.387      1.284        120        640: 100%|██████████| 47/47 [00:34<00:00,  1.35it/s]\n",
      "                 Class     Images  Instances      Box(P          R      mAP50  mAP50-95): 100%|██████████| 5/5 [00:12<00:00,  2.54s/it]"
     ]
    },
    {
     "name": "stdout",
     "output_type": "stream",
     "text": [
      "                   all        150        870      0.819      0.765      0.849      0.475\n"
     ]
    },
    {
     "name": "stderr",
     "output_type": "stream",
     "text": [
      "\n"
     ]
    },
    {
     "name": "stdout",
     "output_type": "stream",
     "text": [
      "\n",
      "      Epoch    GPU_mem   box_loss   cls_loss   dfl_loss  Instances       Size\n"
     ]
    },
    {
     "name": "stderr",
     "output_type": "stream",
     "text": [
      "       8/50      4.07G      1.324      1.292       1.26        140        640: 100%|██████████| 47/47 [01:09<00:00,  1.48s/it]\n",
      "                 Class     Images  Instances      Box(P          R      mAP50  mAP50-95): 100%|██████████| 5/5 [00:15<00:00,  3.06s/it]"
     ]
    },
    {
     "name": "stdout",
     "output_type": "stream",
     "text": [
      "                   all        150        870      0.846      0.812      0.876      0.494\n"
     ]
    },
    {
     "name": "stderr",
     "output_type": "stream",
     "text": [
      "\n"
     ]
    },
    {
     "name": "stdout",
     "output_type": "stream",
     "text": [
      "\n",
      "      Epoch    GPU_mem   box_loss   cls_loss   dfl_loss  Instances       Size\n"
     ]
    },
    {
     "name": "stderr",
     "output_type": "stream",
     "text": [
      "       9/50      4.08G      1.315      1.254      1.252         90        640: 100%|██████████| 47/47 [01:20<00:00,  1.72s/it]\n",
      "                 Class     Images  Instances      Box(P          R      mAP50  mAP50-95): 100%|██████████| 5/5 [00:12<00:00,  2.41s/it]"
     ]
    },
    {
     "name": "stdout",
     "output_type": "stream",
     "text": [
      "                   all        150        870       0.88      0.811      0.902      0.525\n"
     ]
    },
    {
     "name": "stderr",
     "output_type": "stream",
     "text": [
      "\n"
     ]
    },
    {
     "name": "stdout",
     "output_type": "stream",
     "text": [
      "\n",
      "      Epoch    GPU_mem   box_loss   cls_loss   dfl_loss  Instances       Size\n"
     ]
    },
    {
     "name": "stderr",
     "output_type": "stream",
     "text": [
      "      10/50      3.94G      1.298      1.173      1.239        117        640: 100%|██████████| 47/47 [00:35<00:00,  1.32it/s]\n",
      "                 Class     Images  Instances      Box(P          R      mAP50  mAP50-95): 100%|██████████| 5/5 [00:11<00:00,  2.37s/it]"
     ]
    },
    {
     "name": "stdout",
     "output_type": "stream",
     "text": [
      "                   all        150        870      0.877      0.813      0.893      0.519\n"
     ]
    },
    {
     "name": "stderr",
     "output_type": "stream",
     "text": [
      "\n"
     ]
    },
    {
     "name": "stdout",
     "output_type": "stream",
     "text": [
      "\n",
      "      Epoch    GPU_mem   box_loss   cls_loss   dfl_loss  Instances       Size\n"
     ]
    },
    {
     "name": "stderr",
     "output_type": "stream",
     "text": [
      "      11/50      4.07G      1.277      1.128      1.225        111        640: 100%|██████████| 47/47 [00:33<00:00,  1.41it/s]\n",
      "                 Class     Images  Instances      Box(P          R      mAP50  mAP50-95): 100%|██████████| 5/5 [00:10<00:00,  2.15s/it]"
     ]
    },
    {
     "name": "stdout",
     "output_type": "stream",
     "text": [
      "                   all        150        870       0.85       0.88      0.919      0.535\n"
     ]
    },
    {
     "name": "stderr",
     "output_type": "stream",
     "text": [
      "\n"
     ]
    },
    {
     "name": "stdout",
     "output_type": "stream",
     "text": [
      "\n",
      "      Epoch    GPU_mem   box_loss   cls_loss   dfl_loss  Instances       Size\n"
     ]
    },
    {
     "name": "stderr",
     "output_type": "stream",
     "text": [
      "      12/50      4.07G      1.266      1.098      1.225         92        640: 100%|██████████| 47/47 [01:09<00:00,  1.48s/it]\n",
      "                 Class     Images  Instances      Box(P          R      mAP50  mAP50-95): 100%|██████████| 5/5 [00:13<00:00,  2.69s/it]"
     ]
    },
    {
     "name": "stdout",
     "output_type": "stream",
     "text": [
      "                   all        150        870      0.891      0.843       0.92      0.545\n"
     ]
    },
    {
     "name": "stderr",
     "output_type": "stream",
     "text": [
      "\n"
     ]
    },
    {
     "name": "stdout",
     "output_type": "stream",
     "text": [
      "\n",
      "      Epoch    GPU_mem   box_loss   cls_loss   dfl_loss  Instances       Size\n"
     ]
    },
    {
     "name": "stderr",
     "output_type": "stream",
     "text": [
      "      13/50      4.08G      1.243      1.051      1.209        100        640: 100%|██████████| 47/47 [01:20<00:00,  1.72s/it]\n",
      "                 Class     Images  Instances      Box(P          R      mAP50  mAP50-95): 100%|██████████| 5/5 [00:11<00:00,  2.26s/it]"
     ]
    },
    {
     "name": "stdout",
     "output_type": "stream",
     "text": [
      "                   all        150        870      0.886      0.893      0.935       0.56\n"
     ]
    },
    {
     "name": "stderr",
     "output_type": "stream",
     "text": [
      "\n"
     ]
    },
    {
     "name": "stdout",
     "output_type": "stream",
     "text": [
      "\n",
      "      Epoch    GPU_mem   box_loss   cls_loss   dfl_loss  Instances       Size\n"
     ]
    },
    {
     "name": "stderr",
     "output_type": "stream",
     "text": [
      "      14/50      3.95G      1.234      1.027      1.215         90        640: 100%|██████████| 47/47 [00:34<00:00,  1.35it/s]\n",
      "                 Class     Images  Instances      Box(P          R      mAP50  mAP50-95): 100%|██████████| 5/5 [00:11<00:00,  2.32s/it]"
     ]
    },
    {
     "name": "stdout",
     "output_type": "stream",
     "text": [
      "                   all        150        870      0.884      0.884      0.928      0.535\n"
     ]
    },
    {
     "name": "stderr",
     "output_type": "stream",
     "text": [
      "\n"
     ]
    },
    {
     "name": "stdout",
     "output_type": "stream",
     "text": [
      "\n",
      "      Epoch    GPU_mem   box_loss   cls_loss   dfl_loss  Instances       Size\n"
     ]
    },
    {
     "name": "stderr",
     "output_type": "stream",
     "text": [
      "      15/50      4.05G      1.229     0.9955      1.203        108        640: 100%|██████████| 47/47 [00:34<00:00,  1.37it/s]\n",
      "                 Class     Images  Instances      Box(P          R      mAP50  mAP50-95): 100%|██████████| 5/5 [00:11<00:00,  2.28s/it]"
     ]
    },
    {
     "name": "stdout",
     "output_type": "stream",
     "text": [
      "                   all        150        870       0.93      0.876      0.942      0.557\n"
     ]
    },
    {
     "name": "stderr",
     "output_type": "stream",
     "text": [
      "\n"
     ]
    },
    {
     "name": "stdout",
     "output_type": "stream",
     "text": [
      "\n",
      "      Epoch    GPU_mem   box_loss   cls_loss   dfl_loss  Instances       Size\n"
     ]
    },
    {
     "name": "stderr",
     "output_type": "stream",
     "text": [
      "      16/50      4.06G      1.228      1.017       1.21        116        640: 100%|██████████| 47/47 [01:08<00:00,  1.46s/it]\n",
      "                 Class     Images  Instances      Box(P          R      mAP50  mAP50-95): 100%|██████████| 5/5 [00:14<00:00,  2.90s/it]"
     ]
    },
    {
     "name": "stdout",
     "output_type": "stream",
     "text": [
      "                   all        150        870      0.906      0.881       0.94      0.542\n"
     ]
    },
    {
     "name": "stderr",
     "output_type": "stream",
     "text": [
      "\n"
     ]
    },
    {
     "name": "stdout",
     "output_type": "stream",
     "text": [
      "\n",
      "      Epoch    GPU_mem   box_loss   cls_loss   dfl_loss  Instances       Size\n"
     ]
    },
    {
     "name": "stderr",
     "output_type": "stream",
     "text": [
      "      17/50      4.07G      1.219     0.9693      1.197         94        640: 100%|██████████| 47/47 [01:09<00:00,  1.48s/it]\n",
      "                 Class     Images  Instances      Box(P          R      mAP50  mAP50-95): 100%|██████████| 5/5 [00:11<00:00,  2.30s/it]"
     ]
    },
    {
     "name": "stdout",
     "output_type": "stream",
     "text": [
      "                   all        150        870      0.903      0.902      0.951      0.561\n"
     ]
    },
    {
     "name": "stderr",
     "output_type": "stream",
     "text": [
      "\n"
     ]
    },
    {
     "name": "stdout",
     "output_type": "stream",
     "text": [
      "\n",
      "      Epoch    GPU_mem   box_loss   cls_loss   dfl_loss  Instances       Size\n"
     ]
    },
    {
     "name": "stderr",
     "output_type": "stream",
     "text": [
      "      18/50      3.93G      1.214     0.9435      1.193         92        640: 100%|██████████| 47/47 [00:35<00:00,  1.33it/s]\n",
      "                 Class     Images  Instances      Box(P          R      mAP50  mAP50-95): 100%|██████████| 5/5 [00:11<00:00,  2.26s/it]"
     ]
    },
    {
     "name": "stdout",
     "output_type": "stream",
     "text": [
      "                   all        150        870      0.916      0.912      0.947      0.554\n"
     ]
    },
    {
     "name": "stderr",
     "output_type": "stream",
     "text": [
      "\n"
     ]
    },
    {
     "name": "stdout",
     "output_type": "stream",
     "text": [
      "\n",
      "      Epoch    GPU_mem   box_loss   cls_loss   dfl_loss  Instances       Size\n"
     ]
    },
    {
     "name": "stderr",
     "output_type": "stream",
     "text": [
      "      19/50      4.06G      1.197     0.9138      1.191        112        640: 100%|██████████| 47/47 [00:34<00:00,  1.37it/s]\n",
      "                 Class     Images  Instances      Box(P          R      mAP50  mAP50-95): 100%|██████████| 5/5 [00:11<00:00,  2.27s/it]"
     ]
    },
    {
     "name": "stdout",
     "output_type": "stream",
     "text": [
      "                   all        150        870      0.935      0.908      0.964      0.588\n"
     ]
    },
    {
     "name": "stderr",
     "output_type": "stream",
     "text": [
      "\n"
     ]
    },
    {
     "name": "stdout",
     "output_type": "stream",
     "text": [
      "\n",
      "      Epoch    GPU_mem   box_loss   cls_loss   dfl_loss  Instances       Size\n"
     ]
    },
    {
     "name": "stderr",
     "output_type": "stream",
     "text": [
      "      20/50      4.06G      1.206      0.927      1.198         76        640: 100%|██████████| 47/47 [01:08<00:00,  1.46s/it]\n",
      "                 Class     Images  Instances      Box(P          R      mAP50  mAP50-95): 100%|██████████| 5/5 [00:14<00:00,  2.92s/it]"
     ]
    },
    {
     "name": "stdout",
     "output_type": "stream",
     "text": [
      "                   all        150        870      0.964       0.92      0.969      0.572\n"
     ]
    },
    {
     "name": "stderr",
     "output_type": "stream",
     "text": [
      "\n"
     ]
    },
    {
     "name": "stdout",
     "output_type": "stream",
     "text": [
      "\n",
      "      Epoch    GPU_mem   box_loss   cls_loss   dfl_loss  Instances       Size\n"
     ]
    },
    {
     "name": "stderr",
     "output_type": "stream",
     "text": [
      "      21/50      4.06G       1.18     0.9056      1.189         87        640: 100%|██████████| 47/47 [01:08<00:00,  1.46s/it]\n",
      "                 Class     Images  Instances      Box(P          R      mAP50  mAP50-95): 100%|██████████| 5/5 [00:11<00:00,  2.35s/it]"
     ]
    },
    {
     "name": "stdout",
     "output_type": "stream",
     "text": [
      "                   all        150        870      0.937      0.914      0.958      0.564\n"
     ]
    },
    {
     "name": "stderr",
     "output_type": "stream",
     "text": [
      "\n"
     ]
    },
    {
     "name": "stdout",
     "output_type": "stream",
     "text": [
      "\n",
      "      Epoch    GPU_mem   box_loss   cls_loss   dfl_loss  Instances       Size\n"
     ]
    },
    {
     "name": "stderr",
     "output_type": "stream",
     "text": [
      "      22/50      3.94G       1.17     0.8679      1.182        107        640: 100%|██████████| 47/47 [00:35<00:00,  1.34it/s]\n",
      "                 Class     Images  Instances      Box(P          R      mAP50  mAP50-95): 100%|██████████| 5/5 [00:11<00:00,  2.31s/it]"
     ]
    },
    {
     "name": "stdout",
     "output_type": "stream",
     "text": [
      "                   all        150        870      0.937      0.893      0.943      0.562\n"
     ]
    },
    {
     "name": "stderr",
     "output_type": "stream",
     "text": [
      "\n"
     ]
    },
    {
     "name": "stdout",
     "output_type": "stream",
     "text": [
      "\n",
      "      Epoch    GPU_mem   box_loss   cls_loss   dfl_loss  Instances       Size\n"
     ]
    },
    {
     "name": "stderr",
     "output_type": "stream",
     "text": [
      "      23/50      4.08G       1.18     0.8608      1.187        124        640: 100%|██████████| 47/47 [00:35<00:00,  1.34it/s]\n",
      "                 Class     Images  Instances      Box(P          R      mAP50  mAP50-95): 100%|██████████| 5/5 [00:10<00:00,  2.16s/it]"
     ]
    },
    {
     "name": "stdout",
     "output_type": "stream",
     "text": [
      "                   all        150        870      0.925      0.929      0.956      0.562\n"
     ]
    },
    {
     "name": "stderr",
     "output_type": "stream",
     "text": [
      "\n"
     ]
    },
    {
     "name": "stdout",
     "output_type": "stream",
     "text": [
      "\n",
      "      Epoch    GPU_mem   box_loss   cls_loss   dfl_loss  Instances       Size\n"
     ]
    },
    {
     "name": "stderr",
     "output_type": "stream",
     "text": [
      "      24/50      4.07G      1.166      0.836      1.162        102        640: 100%|██████████| 47/47 [01:09<00:00,  1.48s/it]\n",
      "                 Class     Images  Instances      Box(P          R      mAP50  mAP50-95): 100%|██████████| 5/5 [00:13<00:00,  2.69s/it]"
     ]
    },
    {
     "name": "stdout",
     "output_type": "stream",
     "text": [
      "                   all        150        870      0.962      0.919      0.969      0.596\n"
     ]
    },
    {
     "name": "stderr",
     "output_type": "stream",
     "text": [
      "\n"
     ]
    },
    {
     "name": "stdout",
     "output_type": "stream",
     "text": [
      "\n",
      "      Epoch    GPU_mem   box_loss   cls_loss   dfl_loss  Instances       Size\n"
     ]
    },
    {
     "name": "stderr",
     "output_type": "stream",
     "text": [
      "      25/50      4.06G      1.129     0.8078      1.149        140        640: 100%|██████████| 47/47 [01:09<00:00,  1.47s/it]\n",
      "                 Class     Images  Instances      Box(P          R      mAP50  mAP50-95): 100%|██████████| 5/5 [00:11<00:00,  2.33s/it]"
     ]
    },
    {
     "name": "stdout",
     "output_type": "stream",
     "text": [
      "                   all        150        870      0.932       0.93       0.96      0.589\n"
     ]
    },
    {
     "name": "stderr",
     "output_type": "stream",
     "text": [
      "\n"
     ]
    },
    {
     "name": "stdout",
     "output_type": "stream",
     "text": [
      "\n",
      "      Epoch    GPU_mem   box_loss   cls_loss   dfl_loss  Instances       Size\n"
     ]
    },
    {
     "name": "stderr",
     "output_type": "stream",
     "text": [
      "      26/50      3.95G      1.143     0.8142      1.165        107        640: 100%|██████████| 47/47 [00:33<00:00,  1.39it/s]\n",
      "                 Class     Images  Instances      Box(P          R      mAP50  mAP50-95): 100%|██████████| 5/5 [00:11<00:00,  2.31s/it]"
     ]
    },
    {
     "name": "stdout",
     "output_type": "stream",
     "text": [
      "                   all        150        870      0.937      0.949      0.967        0.6\n"
     ]
    },
    {
     "name": "stderr",
     "output_type": "stream",
     "text": [
      "\n"
     ]
    },
    {
     "name": "stdout",
     "output_type": "stream",
     "text": [
      "\n",
      "      Epoch    GPU_mem   box_loss   cls_loss   dfl_loss  Instances       Size\n"
     ]
    },
    {
     "name": "stderr",
     "output_type": "stream",
     "text": [
      "      27/50      4.08G      1.138     0.8199      1.151         78        640: 100%|██████████| 47/47 [00:35<00:00,  1.34it/s]\n",
      "                 Class     Images  Instances      Box(P          R      mAP50  mAP50-95): 100%|██████████| 5/5 [00:10<00:00,  2.17s/it]"
     ]
    },
    {
     "name": "stdout",
     "output_type": "stream",
     "text": [
      "                   all        150        870      0.939      0.935      0.965      0.584\n"
     ]
    },
    {
     "name": "stderr",
     "output_type": "stream",
     "text": [
      "\n"
     ]
    },
    {
     "name": "stdout",
     "output_type": "stream",
     "text": [
      "\n",
      "      Epoch    GPU_mem   box_loss   cls_loss   dfl_loss  Instances       Size\n"
     ]
    },
    {
     "name": "stderr",
     "output_type": "stream",
     "text": [
      "      28/50      4.07G      1.121     0.7917      1.152        121        640: 100%|██████████| 47/47 [01:09<00:00,  1.48s/it]\n",
      "                 Class     Images  Instances      Box(P          R      mAP50  mAP50-95): 100%|██████████| 5/5 [00:13<00:00,  2.66s/it]"
     ]
    },
    {
     "name": "stdout",
     "output_type": "stream",
     "text": [
      "                   all        150        870      0.965      0.938      0.972      0.613\n"
     ]
    },
    {
     "name": "stderr",
     "output_type": "stream",
     "text": [
      "\n"
     ]
    },
    {
     "name": "stdout",
     "output_type": "stream",
     "text": [
      "\n",
      "      Epoch    GPU_mem   box_loss   cls_loss   dfl_loss  Instances       Size\n"
     ]
    },
    {
     "name": "stderr",
     "output_type": "stream",
     "text": [
      "      29/50      4.06G      1.122      0.786      1.142         65        640: 100%|██████████| 47/47 [01:08<00:00,  1.47s/it]\n",
      "                 Class     Images  Instances      Box(P          R      mAP50  mAP50-95): 100%|██████████| 5/5 [00:11<00:00,  2.33s/it]"
     ]
    },
    {
     "name": "stdout",
     "output_type": "stream",
     "text": [
      "                   all        150        870      0.931      0.943      0.963      0.602\n"
     ]
    },
    {
     "name": "stderr",
     "output_type": "stream",
     "text": [
      "\n"
     ]
    },
    {
     "name": "stdout",
     "output_type": "stream",
     "text": [
      "\n",
      "      Epoch    GPU_mem   box_loss   cls_loss   dfl_loss  Instances       Size\n"
     ]
    },
    {
     "name": "stderr",
     "output_type": "stream",
     "text": [
      "      30/50      4.07G       1.09     0.7639      1.135         79        640: 100%|██████████| 47/47 [00:35<00:00,  1.33it/s]\n",
      "                 Class     Images  Instances      Box(P          R      mAP50  mAP50-95): 100%|██████████| 5/5 [00:11<00:00,  2.27s/it]"
     ]
    },
    {
     "name": "stdout",
     "output_type": "stream",
     "text": [
      "                   all        150        870      0.957      0.944       0.97      0.605\n"
     ]
    },
    {
     "name": "stderr",
     "output_type": "stream",
     "text": [
      "\n"
     ]
    },
    {
     "name": "stdout",
     "output_type": "stream",
     "text": [
      "\n",
      "      Epoch    GPU_mem   box_loss   cls_loss   dfl_loss  Instances       Size\n"
     ]
    },
    {
     "name": "stderr",
     "output_type": "stream",
     "text": [
      "      31/50      4.07G      1.104     0.7632       1.14         87        640: 100%|██████████| 47/47 [00:34<00:00,  1.36it/s]\n",
      "                 Class     Images  Instances      Box(P          R      mAP50  mAP50-95): 100%|██████████| 5/5 [00:10<00:00,  2.17s/it]"
     ]
    },
    {
     "name": "stdout",
     "output_type": "stream",
     "text": [
      "                   all        150        870      0.949      0.944      0.966       0.59\n"
     ]
    },
    {
     "name": "stderr",
     "output_type": "stream",
     "text": [
      "\n"
     ]
    },
    {
     "name": "stdout",
     "output_type": "stream",
     "text": [
      "\n",
      "      Epoch    GPU_mem   box_loss   cls_loss   dfl_loss  Instances       Size\n"
     ]
    },
    {
     "name": "stderr",
     "output_type": "stream",
     "text": [
      "      32/50      4.09G      1.093     0.7521      1.125        104        640: 100%|██████████| 47/47 [01:11<00:00,  1.51s/it]\n",
      "                 Class     Images  Instances      Box(P          R      mAP50  mAP50-95): 100%|██████████| 5/5 [00:13<00:00,  2.73s/it]"
     ]
    },
    {
     "name": "stdout",
     "output_type": "stream",
     "text": [
      "                   all        150        870      0.951      0.927      0.972        0.6\n"
     ]
    },
    {
     "name": "stderr",
     "output_type": "stream",
     "text": [
      "\n"
     ]
    },
    {
     "name": "stdout",
     "output_type": "stream",
     "text": [
      "\n",
      "      Epoch    GPU_mem   box_loss   cls_loss   dfl_loss  Instances       Size\n"
     ]
    },
    {
     "name": "stderr",
     "output_type": "stream",
     "text": [
      "      33/50      4.06G      1.096     0.7505      1.132        127        640: 100%|██████████| 47/47 [01:09<00:00,  1.49s/it]\n",
      "                 Class     Images  Instances      Box(P          R      mAP50  mAP50-95): 100%|██████████| 5/5 [00:12<00:00,  2.41s/it]"
     ]
    },
    {
     "name": "stdout",
     "output_type": "stream",
     "text": [
      "                   all        150        870      0.967      0.945      0.977      0.611\n"
     ]
    },
    {
     "name": "stderr",
     "output_type": "stream",
     "text": [
      "\n"
     ]
    },
    {
     "name": "stdout",
     "output_type": "stream",
     "text": [
      "\n",
      "      Epoch    GPU_mem   box_loss   cls_loss   dfl_loss  Instances       Size\n"
     ]
    },
    {
     "name": "stderr",
     "output_type": "stream",
     "text": [
      "      34/50      3.96G      1.075     0.7388      1.127         85        640: 100%|██████████| 47/47 [00:33<00:00,  1.41it/s]\n",
      "                 Class     Images  Instances      Box(P          R      mAP50  mAP50-95): 100%|██████████| 5/5 [00:11<00:00,  2.30s/it]"
     ]
    },
    {
     "name": "stdout",
     "output_type": "stream",
     "text": [
      "                   all        150        870      0.952       0.94      0.968      0.598\n"
     ]
    },
    {
     "name": "stderr",
     "output_type": "stream",
     "text": [
      "\n"
     ]
    },
    {
     "name": "stdout",
     "output_type": "stream",
     "text": [
      "\n",
      "      Epoch    GPU_mem   box_loss   cls_loss   dfl_loss  Instances       Size\n"
     ]
    },
    {
     "name": "stderr",
     "output_type": "stream",
     "text": [
      "      35/50      3.94G      1.071     0.7224      1.118         96        640: 100%|██████████| 47/47 [00:33<00:00,  1.38it/s]\n",
      "                 Class     Images  Instances      Box(P          R      mAP50  mAP50-95): 100%|██████████| 5/5 [00:11<00:00,  2.30s/it]"
     ]
    },
    {
     "name": "stdout",
     "output_type": "stream",
     "text": [
      "                   all        150        870      0.957      0.956      0.973      0.606\n"
     ]
    },
    {
     "name": "stderr",
     "output_type": "stream",
     "text": [
      "\n"
     ]
    },
    {
     "name": "stdout",
     "output_type": "stream",
     "text": [
      "\n",
      "      Epoch    GPU_mem   box_loss   cls_loss   dfl_loss  Instances       Size\n"
     ]
    },
    {
     "name": "stderr",
     "output_type": "stream",
     "text": [
      "      36/50      4.07G      1.061     0.7098      1.112        110        640: 100%|██████████| 47/47 [01:09<00:00,  1.47s/it]\n",
      "                 Class     Images  Instances      Box(P          R      mAP50  mAP50-95): 100%|██████████| 5/5 [00:13<00:00,  2.66s/it]"
     ]
    },
    {
     "name": "stdout",
     "output_type": "stream",
     "text": [
      "                   all        150        870      0.948      0.971      0.975      0.608\n"
     ]
    },
    {
     "name": "stderr",
     "output_type": "stream",
     "text": [
      "\n"
     ]
    },
    {
     "name": "stdout",
     "output_type": "stream",
     "text": [
      "\n",
      "      Epoch    GPU_mem   box_loss   cls_loss   dfl_loss  Instances       Size\n"
     ]
    },
    {
     "name": "stderr",
     "output_type": "stream",
     "text": [
      "      37/50      4.06G      1.061     0.7088      1.119        108        640: 100%|██████████| 47/47 [01:08<00:00,  1.47s/it]\n",
      "                 Class     Images  Instances      Box(P          R      mAP50  mAP50-95): 100%|██████████| 5/5 [00:11<00:00,  2.32s/it]"
     ]
    },
    {
     "name": "stdout",
     "output_type": "stream",
     "text": [
      "                   all        150        870      0.947      0.961      0.979      0.622\n"
     ]
    },
    {
     "name": "stderr",
     "output_type": "stream",
     "text": [
      "\n"
     ]
    },
    {
     "name": "stdout",
     "output_type": "stream",
     "text": [
      "\n",
      "      Epoch    GPU_mem   box_loss   cls_loss   dfl_loss  Instances       Size\n"
     ]
    },
    {
     "name": "stderr",
     "output_type": "stream",
     "text": [
      "      38/50      3.95G      1.049     0.7091      1.106         89        640: 100%|██████████| 47/47 [00:32<00:00,  1.43it/s]\n",
      "                 Class     Images  Instances      Box(P          R      mAP50  mAP50-95): 100%|██████████| 5/5 [00:11<00:00,  2.31s/it]"
     ]
    },
    {
     "name": "stdout",
     "output_type": "stream",
     "text": [
      "                   all        150        870      0.956      0.949      0.974      0.608\n"
     ]
    },
    {
     "name": "stderr",
     "output_type": "stream",
     "text": [
      "\n"
     ]
    },
    {
     "name": "stdout",
     "output_type": "stream",
     "text": [
      "\n",
      "      Epoch    GPU_mem   box_loss   cls_loss   dfl_loss  Instances       Size\n"
     ]
    },
    {
     "name": "stderr",
     "output_type": "stream",
     "text": [
      "      39/50      3.94G      1.051      0.687      1.103        140        640: 100%|██████████| 47/47 [00:34<00:00,  1.37it/s]\n",
      "                 Class     Images  Instances      Box(P          R      mAP50  mAP50-95): 100%|██████████| 5/5 [00:11<00:00,  2.31s/it]"
     ]
    },
    {
     "name": "stdout",
     "output_type": "stream",
     "text": [
      "                   all        150        870      0.957      0.963      0.974      0.607\n"
     ]
    },
    {
     "name": "stderr",
     "output_type": "stream",
     "text": [
      "\n"
     ]
    },
    {
     "name": "stdout",
     "output_type": "stream",
     "text": [
      "\n",
      "      Epoch    GPU_mem   box_loss   cls_loss   dfl_loss  Instances       Size\n"
     ]
    },
    {
     "name": "stderr",
     "output_type": "stream",
     "text": [
      "      40/50      4.07G      1.022     0.6878      1.105         68        640: 100%|██████████| 47/47 [01:16<00:00,  1.63s/it]\n",
      "                 Class     Images  Instances      Box(P          R      mAP50  mAP50-95): 100%|██████████| 5/5 [00:14<00:00,  2.93s/it]"
     ]
    },
    {
     "name": "stdout",
     "output_type": "stream",
     "text": [
      "                   all        150        870      0.968      0.955      0.975      0.615\n"
     ]
    },
    {
     "name": "stderr",
     "output_type": "stream",
     "text": [
      "\n"
     ]
    },
    {
     "name": "stdout",
     "output_type": "stream",
     "text": [
      "Closing dataloader mosaic\n",
      "\n",
      "      Epoch    GPU_mem   box_loss   cls_loss   dfl_loss  Instances       Size\n"
     ]
    },
    {
     "name": "stderr",
     "output_type": "stream",
     "text": [
      "      41/50      4.03G     0.9691     0.5779      1.063         65        640: 100%|██████████| 47/47 [01:05<00:00,  1.40s/it]\n",
      "                 Class     Images  Instances      Box(P          R      mAP50  mAP50-95): 100%|██████████| 5/5 [00:10<00:00,  2.18s/it]"
     ]
    },
    {
     "name": "stdout",
     "output_type": "stream",
     "text": [
      "                   all        150        870      0.966       0.96      0.976      0.614\n"
     ]
    },
    {
     "name": "stderr",
     "output_type": "stream",
     "text": [
      "\n"
     ]
    },
    {
     "name": "stdout",
     "output_type": "stream",
     "text": [
      "\n",
      "      Epoch    GPU_mem   box_loss   cls_loss   dfl_loss  Instances       Size\n"
     ]
    },
    {
     "name": "stderr",
     "output_type": "stream",
     "text": [
      "      42/50      3.96G     0.9594     0.5592      1.061         61        640: 100%|██████████| 47/47 [00:33<00:00,  1.41it/s]\n",
      "                 Class     Images  Instances      Box(P          R      mAP50  mAP50-95): 100%|██████████| 5/5 [00:11<00:00,  2.22s/it]"
     ]
    },
    {
     "name": "stdout",
     "output_type": "stream",
     "text": [
      "                   all        150        870       0.97      0.952      0.975      0.606\n"
     ]
    },
    {
     "name": "stderr",
     "output_type": "stream",
     "text": [
      "\n"
     ]
    },
    {
     "name": "stdout",
     "output_type": "stream",
     "text": [
      "\n",
      "      Epoch    GPU_mem   box_loss   cls_loss   dfl_loss  Instances       Size\n"
     ]
    },
    {
     "name": "stderr",
     "output_type": "stream",
     "text": [
      "      43/50      4.06G     0.9462     0.5514      1.057         66        640: 100%|██████████| 47/47 [00:31<00:00,  1.50it/s]\n",
      "                 Class     Images  Instances      Box(P          R      mAP50  mAP50-95): 100%|██████████| 5/5 [00:10<00:00,  2.07s/it]"
     ]
    },
    {
     "name": "stdout",
     "output_type": "stream",
     "text": [
      "                   all        150        870      0.954      0.959      0.975      0.607\n"
     ]
    },
    {
     "name": "stderr",
     "output_type": "stream",
     "text": [
      "\n"
     ]
    },
    {
     "name": "stdout",
     "output_type": "stream",
     "text": [
      "\n",
      "      Epoch    GPU_mem   box_loss   cls_loss   dfl_loss  Instances       Size\n"
     ]
    },
    {
     "name": "stderr",
     "output_type": "stream",
     "text": [
      "      44/50      4.06G      0.936     0.5465      1.048         64        640: 100%|██████████| 47/47 [01:09<00:00,  1.49s/it]\n",
      "                 Class     Images  Instances      Box(P          R      mAP50  mAP50-95): 100%|██████████| 5/5 [00:13<00:00,  2.70s/it]"
     ]
    },
    {
     "name": "stdout",
     "output_type": "stream",
     "text": [
      "                   all        150        870      0.967      0.942      0.972      0.608\n"
     ]
    },
    {
     "name": "stderr",
     "output_type": "stream",
     "text": [
      "\n"
     ]
    },
    {
     "name": "stdout",
     "output_type": "stream",
     "text": [
      "\n",
      "      Epoch    GPU_mem   box_loss   cls_loss   dfl_loss  Instances       Size\n"
     ]
    },
    {
     "name": "stderr",
     "output_type": "stream",
     "text": [
      "      45/50      4.06G     0.9286     0.5375      1.046         64        640: 100%|██████████| 47/47 [01:08<00:00,  1.45s/it]\n",
      "                 Class     Images  Instances      Box(P          R      mAP50  mAP50-95): 100%|██████████| 5/5 [00:10<00:00,  2.20s/it]"
     ]
    },
    {
     "name": "stdout",
     "output_type": "stream",
     "text": [
      "                   all        150        870      0.976      0.946      0.975      0.615\n"
     ]
    },
    {
     "name": "stderr",
     "output_type": "stream",
     "text": [
      "\n"
     ]
    },
    {
     "name": "stdout",
     "output_type": "stream",
     "text": [
      "\n",
      "      Epoch    GPU_mem   box_loss   cls_loss   dfl_loss  Instances       Size\n"
     ]
    },
    {
     "name": "stderr",
     "output_type": "stream",
     "text": [
      "      46/50      3.96G     0.9072      0.527      1.038         65        640: 100%|██████████| 47/47 [00:33<00:00,  1.41it/s]\n",
      "                 Class     Images  Instances      Box(P          R      mAP50  mAP50-95): 100%|██████████| 5/5 [00:10<00:00,  2.14s/it]"
     ]
    },
    {
     "name": "stdout",
     "output_type": "stream",
     "text": [
      "                   all        150        870      0.972       0.95      0.976      0.617\n"
     ]
    },
    {
     "name": "stderr",
     "output_type": "stream",
     "text": [
      "\n"
     ]
    },
    {
     "name": "stdout",
     "output_type": "stream",
     "text": [
      "\n",
      "      Epoch    GPU_mem   box_loss   cls_loss   dfl_loss  Instances       Size\n"
     ]
    },
    {
     "name": "stderr",
     "output_type": "stream",
     "text": [
      "      47/50      4.06G     0.9112     0.5289      1.036         65        640: 100%|██████████| 47/47 [00:31<00:00,  1.49it/s]\n",
      "                 Class     Images  Instances      Box(P          R      mAP50  mAP50-95): 100%|██████████| 5/5 [00:10<00:00,  2.11s/it]"
     ]
    },
    {
     "name": "stdout",
     "output_type": "stream",
     "text": [
      "                   all        150        870      0.971      0.951      0.973      0.613\n"
     ]
    },
    {
     "name": "stderr",
     "output_type": "stream",
     "text": [
      "\n"
     ]
    },
    {
     "name": "stdout",
     "output_type": "stream",
     "text": [
      "\n",
      "      Epoch    GPU_mem   box_loss   cls_loss   dfl_loss  Instances       Size\n"
     ]
    },
    {
     "name": "stderr",
     "output_type": "stream",
     "text": [
      "      48/50      4.06G     0.8973     0.5249      1.034         64        640: 100%|██████████| 47/47 [01:08<00:00,  1.46s/it]\n",
      "                 Class     Images  Instances      Box(P          R      mAP50  mAP50-95): 100%|██████████| 5/5 [00:13<00:00,  2.71s/it]"
     ]
    },
    {
     "name": "stdout",
     "output_type": "stream",
     "text": [
      "                   all        150        870      0.963      0.959      0.976      0.614\n"
     ]
    },
    {
     "name": "stderr",
     "output_type": "stream",
     "text": [
      "\n"
     ]
    },
    {
     "name": "stdout",
     "output_type": "stream",
     "text": [
      "\n",
      "      Epoch    GPU_mem   box_loss   cls_loss   dfl_loss  Instances       Size\n"
     ]
    },
    {
     "name": "stderr",
     "output_type": "stream",
     "text": [
      "      49/50      4.06G     0.8898     0.5137      1.023         65        640: 100%|██████████| 47/47 [01:08<00:00,  1.47s/it]\n",
      "                 Class     Images  Instances      Box(P          R      mAP50  mAP50-95): 100%|██████████| 5/5 [00:10<00:00,  2.19s/it]"
     ]
    },
    {
     "name": "stdout",
     "output_type": "stream",
     "text": [
      "                   all        150        870      0.968      0.959      0.974      0.612\n"
     ]
    },
    {
     "name": "stderr",
     "output_type": "stream",
     "text": [
      "\n"
     ]
    },
    {
     "name": "stdout",
     "output_type": "stream",
     "text": [
      "\n",
      "      Epoch    GPU_mem   box_loss   cls_loss   dfl_loss  Instances       Size\n"
     ]
    },
    {
     "name": "stderr",
     "output_type": "stream",
     "text": [
      "      50/50      3.96G     0.8749     0.5053      1.023         65        640: 100%|██████████| 47/47 [00:33<00:00,  1.41it/s]\n",
      "                 Class     Images  Instances      Box(P          R      mAP50  mAP50-95): 100%|██████████| 5/5 [00:10<00:00,  2.14s/it]"
     ]
    },
    {
     "name": "stdout",
     "output_type": "stream",
     "text": [
      "                   all        150        870      0.974      0.955      0.974      0.613\n"
     ]
    },
    {
     "name": "stderr",
     "output_type": "stream",
     "text": [
      "\n"
     ]
    },
    {
     "name": "stdout",
     "output_type": "stream",
     "text": [
      "\n",
      "50 epochs completed in 0.909 hours.\n",
      "Optimizer stripped from runs\\detect\\train8\\weights\\last.pt, 5.5MB\n",
      "Optimizer stripped from runs\\detect\\train8\\weights\\best.pt, 5.5MB\n",
      "\n",
      "Validating runs\\detect\\train8\\weights\\best.pt...\n",
      "Ultralytics 8.3.98  Python-3.10.6 torch-2.5.1+cu121 CUDA:0 (NVIDIA GeForce GTX 1650, 4096MiB)\n",
      "YOLO11n summary (fused): 100 layers, 2,583,322 parameters, 0 gradients, 6.3 GFLOPs\n"
     ]
    },
    {
     "name": "stderr",
     "output_type": "stream",
     "text": [
      "                 Class     Images  Instances      Box(P          R      mAP50  mAP50-95): 100%|██████████| 5/5 [00:02<00:00,  1.68it/s]\n"
     ]
    },
    {
     "name": "stdout",
     "output_type": "stream",
     "text": [
      "                   all        150        870      0.947      0.961      0.978      0.622\n",
      "                  Name        143        143      0.938      0.951      0.968      0.634\n",
      "          Fathers Name        144        144      0.892      0.973      0.985      0.619\n",
      "            pan number        150        150      0.986      0.972      0.993      0.724\n",
      "                   dob        145        145      0.977      0.945      0.972       0.62\n",
      "                 photo        144        144      0.971      0.986       0.99      0.534\n",
      "             signature        144        144      0.917      0.938      0.962      0.602\n",
      "Speed: 1.0ms preprocess, 8.2ms inference, 0.0ms loss, 3.7ms postprocess per image\n",
      "Results saved to \u001b[1mruns\\detect\\train8\u001b[0m\n"
     ]
    }
   ],
   "source": [
    "from ultralytics import YOLO\n",
    "\n",
    "if torch.cuda.device_count() != 0:\n",
    "    device = torch.cuda.device_count()\n",
    "else:\n",
    "    device = \"cpu\"\n",
    "\n",
    "# Load a model\n",
    "model = YOLO(\"yolo11n.pt\")\n",
    "\n",
    "# Train the model\n",
    "train_results = model.train(\n",
    "    data=r\"C:\\Project\\YOLO\\Pan_Card_Text_Extractor\\Pancard_300\\data.yaml\",  # path to dataset YAML\n",
    "    epochs=50,  # number of training epochs\n",
    "    imgsz=640,  # training image size\n",
    "    device=device,  # device to run on, i.e. device=0 or device=0,1,2,3 or device=cpu\n",
    ")"
   ]
  },
  {
   "cell_type": "code",
   "execution_count": 4,
   "metadata": {},
   "outputs": [
    {
     "name": "stdout",
     "output_type": "stream",
     "text": [
      "\n",
      "image 1/1 C:\\Project\\YOLO\\Pan_Card_Text_Extractor\\Pancard_200\\test\\images\\84152d81-imgtopdf_generated_2508201310016_page-129_jpg.rf.ca983555a90fe77ffb7442de167c259f.jpg: 640x480 1 Name, 1 Fathers Name, 1 pan number, 1 dob, 1 photo, 1 signature, 78.3ms\n",
      "Speed: 3.4ms preprocess, 78.3ms inference, 2.7ms postprocess per image at shape (1, 3, 640, 480)\n",
      "Results saved to \u001b[1mruns\\detect\\predict\u001b[0m\n"
     ]
    }
   ],
   "source": [
    "# Load a model\n",
    "model = YOLO(\"runs/detect/train5/weights/best.pt\")\n",
    "\n",
    "# Perform object detection on an image\n",
    "results = model(r\"C:\\Project\\YOLO\\Pan_Card_Text_Extractor\\Pancard_200\\test\\images\\84152d81-imgtopdf_generated_2508201310016_page-129_jpg.rf.ca983555a90fe77ffb7442de167c259f.jpg\", save=True)\n",
    "results[0].show()"
   ]
  },
  {
   "cell_type": "code",
   "execution_count": 1,
   "metadata": {},
   "outputs": [
    {
     "name": "stdout",
     "output_type": "stream",
     "text": [
      "\n",
      "0: 480x640 (no detections), 234.7ms\n",
      "Speed: 6.7ms preprocess, 234.7ms inference, 4.1ms postprocess per image at shape (1, 3, 480, 640)\n"
     ]
    },
    {
     "name": "stderr",
     "output_type": "stream",
     "text": [
      "qt.qpa.plugin: Could not find the Qt platform plugin \"wayland\" in \"/home/neosoft/Documents/YOLO/Pan_Card_Text_Extractor/pancard_env/lib/python3.10/site-packages/cv2/qt/plugins\"\n"
     ]
    },
    {
     "name": "stdout",
     "output_type": "stream",
     "text": [
      "\n",
      "0: 480x640 (no detections), 266.8ms\n",
      "Speed: 45.8ms preprocess, 266.8ms inference, 0.8ms postprocess per image at shape (1, 3, 480, 640)\n",
      "\n",
      "0: 480x640 (no detections), 153.9ms\n",
      "Speed: 5.2ms preprocess, 153.9ms inference, 0.8ms postprocess per image at shape (1, 3, 480, 640)\n",
      "\n",
      "0: 480x640 (no detections), 160.4ms\n",
      "Speed: 2.9ms preprocess, 160.4ms inference, 0.5ms postprocess per image at shape (1, 3, 480, 640)\n",
      "\n",
      "0: 480x640 (no detections), 145.3ms\n",
      "Speed: 2.7ms preprocess, 145.3ms inference, 0.8ms postprocess per image at shape (1, 3, 480, 640)\n",
      "\n",
      "0: 480x640 1 photo, 159.1ms\n",
      "Speed: 3.2ms preprocess, 159.1ms inference, 12.0ms postprocess per image at shape (1, 3, 480, 640)\n",
      "\n",
      "0: 480x640 1 photo, 154.4ms\n",
      "Speed: 3.2ms preprocess, 154.4ms inference, 1.4ms postprocess per image at shape (1, 3, 480, 640)\n",
      "\n",
      "0: 480x640 1 photo, 153.1ms\n",
      "Speed: 3.0ms preprocess, 153.1ms inference, 1.3ms postprocess per image at shape (1, 3, 480, 640)\n",
      "\n",
      "0: 480x640 1 photo, 147.7ms\n",
      "Speed: 3.3ms preprocess, 147.7ms inference, 1.0ms postprocess per image at shape (1, 3, 480, 640)\n",
      "\n",
      "0: 480x640 1 photo, 144.3ms\n",
      "Speed: 2.2ms preprocess, 144.3ms inference, 0.8ms postprocess per image at shape (1, 3, 480, 640)\n",
      "\n",
      "0: 480x640 1 photo, 151.4ms\n",
      "Speed: 3.4ms preprocess, 151.4ms inference, 1.1ms postprocess per image at shape (1, 3, 480, 640)\n",
      "\n",
      "0: 480x640 1 photo, 152.3ms\n",
      "Speed: 2.1ms preprocess, 152.3ms inference, 0.8ms postprocess per image at shape (1, 3, 480, 640)\n",
      "\n",
      "0: 480x640 1 photo, 152.1ms\n",
      "Speed: 4.0ms preprocess, 152.1ms inference, 1.3ms postprocess per image at shape (1, 3, 480, 640)\n",
      "\n",
      "0: 480x640 1 photo, 150.7ms\n",
      "Speed: 2.5ms preprocess, 150.7ms inference, 1.3ms postprocess per image at shape (1, 3, 480, 640)\n",
      "\n",
      "0: 480x640 1 photo, 145.8ms\n",
      "Speed: 2.9ms preprocess, 145.8ms inference, 0.7ms postprocess per image at shape (1, 3, 480, 640)\n",
      "\n",
      "0: 480x640 (no detections), 141.3ms\n",
      "Speed: 2.6ms preprocess, 141.3ms inference, 0.5ms postprocess per image at shape (1, 3, 480, 640)\n",
      "\n",
      "0: 480x640 1 photo, 146.3ms\n",
      "Speed: 2.3ms preprocess, 146.3ms inference, 1.3ms postprocess per image at shape (1, 3, 480, 640)\n",
      "\n",
      "0: 480x640 1 photo, 145.1ms\n",
      "Speed: 4.2ms preprocess, 145.1ms inference, 0.9ms postprocess per image at shape (1, 3, 480, 640)\n",
      "\n",
      "0: 480x640 1 photo, 140.0ms\n",
      "Speed: 2.6ms preprocess, 140.0ms inference, 1.7ms postprocess per image at shape (1, 3, 480, 640)\n",
      "\n",
      "0: 480x640 1 photo, 145.1ms\n",
      "Speed: 2.5ms preprocess, 145.1ms inference, 0.7ms postprocess per image at shape (1, 3, 480, 640)\n",
      "\n",
      "0: 480x640 1 photo, 149.6ms\n",
      "Speed: 3.4ms preprocess, 149.6ms inference, 1.0ms postprocess per image at shape (1, 3, 480, 640)\n",
      "\n",
      "0: 480x640 1 photo, 145.7ms\n",
      "Speed: 2.7ms preprocess, 145.7ms inference, 0.7ms postprocess per image at shape (1, 3, 480, 640)\n",
      "\n",
      "0: 480x640 1 photo, 149.1ms\n",
      "Speed: 2.4ms preprocess, 149.1ms inference, 1.3ms postprocess per image at shape (1, 3, 480, 640)\n",
      "\n",
      "0: 480x640 1 photo, 150.9ms\n",
      "Speed: 3.6ms preprocess, 150.9ms inference, 0.7ms postprocess per image at shape (1, 3, 480, 640)\n",
      "\n",
      "0: 480x640 1 photo, 190.3ms\n",
      "Speed: 2.9ms preprocess, 190.3ms inference, 1.2ms postprocess per image at shape (1, 3, 480, 640)\n",
      "\n",
      "0: 480x640 1 photo, 165.7ms\n",
      "Speed: 2.9ms preprocess, 165.7ms inference, 0.7ms postprocess per image at shape (1, 3, 480, 640)\n",
      "\n",
      "0: 480x640 1 photo, 146.6ms\n",
      "Speed: 3.1ms preprocess, 146.6ms inference, 1.2ms postprocess per image at shape (1, 3, 480, 640)\n",
      "\n",
      "0: 480x640 1 photo, 147.5ms\n",
      "Speed: 3.7ms preprocess, 147.5ms inference, 1.3ms postprocess per image at shape (1, 3, 480, 640)\n",
      "\n",
      "0: 480x640 1 photo, 144.2ms\n",
      "Speed: 2.3ms preprocess, 144.2ms inference, 1.2ms postprocess per image at shape (1, 3, 480, 640)\n",
      "\n",
      "0: 480x640 1 photo, 145.7ms\n",
      "Speed: 2.7ms preprocess, 145.7ms inference, 1.6ms postprocess per image at shape (1, 3, 480, 640)\n",
      "\n",
      "0: 480x640 1 photo, 149.6ms\n",
      "Speed: 2.2ms preprocess, 149.6ms inference, 0.7ms postprocess per image at shape (1, 3, 480, 640)\n",
      "\n",
      "0: 480x640 1 photo, 143.6ms\n",
      "Speed: 1.9ms preprocess, 143.6ms inference, 1.9ms postprocess per image at shape (1, 3, 480, 640)\n",
      "\n",
      "0: 480x640 1 photo, 145.4ms\n",
      "Speed: 4.1ms preprocess, 145.4ms inference, 1.9ms postprocess per image at shape (1, 3, 480, 640)\n",
      "\n",
      "0: 480x640 1 photo, 152.4ms\n",
      "Speed: 2.5ms preprocess, 152.4ms inference, 0.7ms postprocess per image at shape (1, 3, 480, 640)\n",
      "\n",
      "0: 480x640 1 photo, 145.6ms\n",
      "Speed: 2.3ms preprocess, 145.6ms inference, 0.8ms postprocess per image at shape (1, 3, 480, 640)\n",
      "\n",
      "0: 480x640 1 photo, 144.6ms\n",
      "Speed: 3.6ms preprocess, 144.6ms inference, 1.2ms postprocess per image at shape (1, 3, 480, 640)\n",
      "\n",
      "0: 480x640 1 photo, 175.3ms\n",
      "Speed: 2.3ms preprocess, 175.3ms inference, 0.7ms postprocess per image at shape (1, 3, 480, 640)\n",
      "\n",
      "0: 480x640 1 photo, 140.4ms\n",
      "Speed: 2.5ms preprocess, 140.4ms inference, 1.4ms postprocess per image at shape (1, 3, 480, 640)\n",
      "\n",
      "0: 480x640 1 photo, 140.5ms\n",
      "Speed: 4.5ms preprocess, 140.5ms inference, 0.8ms postprocess per image at shape (1, 3, 480, 640)\n",
      "\n",
      "0: 480x640 1 photo, 139.4ms\n",
      "Speed: 2.7ms preprocess, 139.4ms inference, 0.9ms postprocess per image at shape (1, 3, 480, 640)\n",
      "\n",
      "0: 480x640 1 photo, 153.6ms\n",
      "Speed: 2.3ms preprocess, 153.6ms inference, 0.9ms postprocess per image at shape (1, 3, 480, 640)\n",
      "\n",
      "0: 480x640 1 photo, 151.0ms\n",
      "Speed: 2.3ms preprocess, 151.0ms inference, 0.7ms postprocess per image at shape (1, 3, 480, 640)\n",
      "\n",
      "0: 480x640 (no detections), 149.5ms\n",
      "Speed: 2.7ms preprocess, 149.5ms inference, 0.7ms postprocess per image at shape (1, 3, 480, 640)\n",
      "\n",
      "0: 480x640 (no detections), 149.2ms\n",
      "Speed: 2.5ms preprocess, 149.2ms inference, 0.9ms postprocess per image at shape (1, 3, 480, 640)\n",
      "\n",
      "0: 480x640 2 photos, 146.7ms\n",
      "Speed: 2.3ms preprocess, 146.7ms inference, 0.9ms postprocess per image at shape (1, 3, 480, 640)\n",
      "\n",
      "0: 480x640 1 photo, 1 signature, 136.5ms\n",
      "Speed: 3.5ms preprocess, 136.5ms inference, 0.8ms postprocess per image at shape (1, 3, 480, 640)\n",
      "\n",
      "0: 480x640 1 photo, 1 signature, 140.1ms\n",
      "Speed: 3.0ms preprocess, 140.1ms inference, 0.9ms postprocess per image at shape (1, 3, 480, 640)\n",
      "\n",
      "0: 480x640 1 Name, 1 pan number, 1 dob, 1 photo, 1 signature, 140.7ms\n",
      "Speed: 2.9ms preprocess, 140.7ms inference, 8.7ms postprocess per image at shape (1, 3, 480, 640)\n",
      "\n",
      "0: 480x640 1 pan number, 1 dob, 1 signature, 146.5ms\n",
      "Speed: 3.2ms preprocess, 146.5ms inference, 1.4ms postprocess per image at shape (1, 3, 480, 640)\n",
      "\n",
      "0: 480x640 1 Name, 1 Fathers Name, 1 pan number, 2 dobs, 1 photo, 1 signature, 142.7ms\n",
      "Speed: 2.4ms preprocess, 142.7ms inference, 0.9ms postprocess per image at shape (1, 3, 480, 640)\n",
      "\n",
      "0: 480x640 1 Name, 1 pan number, 1 dob, 1 photo, 1 signature, 148.0ms\n",
      "Speed: 3.8ms preprocess, 148.0ms inference, 1.3ms postprocess per image at shape (1, 3, 480, 640)\n",
      "\n",
      "0: 480x640 1 Name, 1 pan number, 2 dobs, 1 photo, 1 signature, 146.9ms\n",
      "Speed: 4.5ms preprocess, 146.9ms inference, 1.1ms postprocess per image at shape (1, 3, 480, 640)\n",
      "\n",
      "0: 480x640 1 Name, 1 pan number, 1 photo, 1 signature, 143.6ms\n",
      "Speed: 4.8ms preprocess, 143.6ms inference, 0.9ms postprocess per image at shape (1, 3, 480, 640)\n",
      "\n",
      "0: 480x640 1 Name, 1 pan number, 1 dob, 1 photo, 1 signature, 145.2ms\n",
      "Speed: 2.8ms preprocess, 145.2ms inference, 0.7ms postprocess per image at shape (1, 3, 480, 640)\n",
      "\n",
      "0: 480x640 1 pan number, 1 photo, 140.1ms\n",
      "Speed: 2.9ms preprocess, 140.1ms inference, 1.3ms postprocess per image at shape (1, 3, 480, 640)\n",
      "\n",
      "0: 480x640 1 pan number, 1 photo, 143.4ms\n",
      "Speed: 2.9ms preprocess, 143.4ms inference, 1.6ms postprocess per image at shape (1, 3, 480, 640)\n",
      "\n",
      "0: 480x640 1 pan number, 1 photo, 141.9ms\n",
      "Speed: 2.4ms preprocess, 141.9ms inference, 1.5ms postprocess per image at shape (1, 3, 480, 640)\n",
      "\n",
      "0: 480x640 1 Name, 1 Fathers Name, 1 pan number, 1 photo, 1 signature, 141.2ms\n",
      "Speed: 3.6ms preprocess, 141.2ms inference, 0.7ms postprocess per image at shape (1, 3, 480, 640)\n",
      "\n",
      "0: 480x640 1 Name, 1 Fathers Name, 1 pan number, 1 dob, 1 photo, 1 signature, 144.0ms\n",
      "Speed: 2.5ms preprocess, 144.0ms inference, 1.4ms postprocess per image at shape (1, 3, 480, 640)\n",
      "\n",
      "0: 480x640 1 Name, 2 Fathers Names, 1 pan number, 1 dob, 1 photo, 1 signature, 142.5ms\n",
      "Speed: 2.3ms preprocess, 142.5ms inference, 0.8ms postprocess per image at shape (1, 3, 480, 640)\n",
      "\n",
      "0: 480x640 1 Name, 1 Fathers Name, 1 pan number, 1 dob, 1 photo, 1 signature, 143.0ms\n",
      "Speed: 5.7ms preprocess, 143.0ms inference, 1.7ms postprocess per image at shape (1, 3, 480, 640)\n",
      "\n",
      "0: 480x640 1 Name, 1 Fathers Name, 1 pan number, 1 dob, 1 photo, 1 signature, 148.8ms\n",
      "Speed: 2.5ms preprocess, 148.8ms inference, 1.3ms postprocess per image at shape (1, 3, 480, 640)\n",
      "\n",
      "0: 480x640 1 Name, 1 Fathers Name, 1 pan number, 2 dobs, 1 photo, 1 signature, 148.8ms\n",
      "Speed: 1.7ms preprocess, 148.8ms inference, 0.7ms postprocess per image at shape (1, 3, 480, 640)\n",
      "\n",
      "0: 480x640 1 Name, 1 Fathers Name, 1 pan number, 1 dob, 1 photo, 1 signature, 138.4ms\n",
      "Speed: 2.7ms preprocess, 138.4ms inference, 0.7ms postprocess per image at shape (1, 3, 480, 640)\n",
      "\n",
      "0: 480x640 1 Name, 2 Fathers Names, 1 pan number, 1 dob, 1 photo, 1 signature, 144.3ms\n",
      "Speed: 2.6ms preprocess, 144.3ms inference, 1.2ms postprocess per image at shape (1, 3, 480, 640)\n",
      "\n",
      "0: 480x640 1 Name, 1 Fathers Name, 1 pan number, 1 dob, 1 photo, 1 signature, 139.8ms\n",
      "Speed: 2.6ms preprocess, 139.8ms inference, 1.2ms postprocess per image at shape (1, 3, 480, 640)\n",
      "\n",
      "0: 480x640 1 Name, 1 Fathers Name, 1 pan number, 1 dob, 1 photo, 1 signature, 135.3ms\n",
      "Speed: 3.9ms preprocess, 135.3ms inference, 0.8ms postprocess per image at shape (1, 3, 480, 640)\n",
      "\n",
      "0: 480x640 1 Name, 1 Fathers Name, 1 pan number, 1 dob, 1 photo, 1 signature, 141.5ms\n",
      "Speed: 3.0ms preprocess, 141.5ms inference, 0.8ms postprocess per image at shape (1, 3, 480, 640)\n",
      "\n",
      "0: 480x640 1 Name, 1 Fathers Name, 1 pan number, 1 dob, 1 photo, 1 signature, 148.4ms\n",
      "Speed: 2.5ms preprocess, 148.4ms inference, 0.9ms postprocess per image at shape (1, 3, 480, 640)\n",
      "\n",
      "0: 480x640 1 Name, 1 Fathers Name, 1 pan number, 2 dobs, 1 photo, 1 signature, 144.6ms\n",
      "Speed: 2.6ms preprocess, 144.6ms inference, 1.1ms postprocess per image at shape (1, 3, 480, 640)\n",
      "\n",
      "0: 480x640 1 Name, 1 Fathers Name, 1 pan number, 1 dob, 1 photo, 1 signature, 136.7ms\n",
      "Speed: 2.8ms preprocess, 136.7ms inference, 1.2ms postprocess per image at shape (1, 3, 480, 640)\n",
      "\n",
      "0: 480x640 1 Name, 1 Fathers Name, 1 pan number, 1 dob, 1 photo, 1 signature, 144.2ms\n",
      "Speed: 3.6ms preprocess, 144.2ms inference, 0.8ms postprocess per image at shape (1, 3, 480, 640)\n",
      "\n",
      "0: 480x640 1 Name, 1 Fathers Name, 1 pan number, 1 dob, 1 photo, 1 signature, 149.1ms\n",
      "Speed: 3.2ms preprocess, 149.1ms inference, 2.0ms postprocess per image at shape (1, 3, 480, 640)\n",
      "\n",
      "0: 480x640 1 Name, 1 Fathers Name, 1 pan number, 1 dob, 1 photo, 1 signature, 146.2ms\n",
      "Speed: 2.0ms preprocess, 146.2ms inference, 0.7ms postprocess per image at shape (1, 3, 480, 640)\n",
      "\n",
      "0: 480x640 1 Name, 1 Fathers Name, 1 pan number, 2 dobs, 1 photo, 1 signature, 145.0ms\n",
      "Speed: 3.2ms preprocess, 145.0ms inference, 1.4ms postprocess per image at shape (1, 3, 480, 640)\n",
      "\n",
      "0: 480x640 1 Name, 1 Fathers Name, 1 pan number, 1 dob, 1 photo, 1 signature, 136.8ms\n",
      "Speed: 2.7ms preprocess, 136.8ms inference, 1.3ms postprocess per image at shape (1, 3, 480, 640)\n",
      "\n",
      "0: 480x640 1 Name, 1 Fathers Name, 1 pan number, 1 dob, 1 photo, 1 signature, 141.8ms\n",
      "Speed: 2.3ms preprocess, 141.8ms inference, 0.7ms postprocess per image at shape (1, 3, 480, 640)\n",
      "\n",
      "0: 480x640 1 Name, 1 Fathers Name, 1 pan number, 2 dobs, 1 photo, 1 signature, 146.1ms\n",
      "Speed: 2.9ms preprocess, 146.1ms inference, 1.2ms postprocess per image at shape (1, 3, 480, 640)\n",
      "\n",
      "0: 480x640 1 Name, 1 Fathers Name, 1 pan number, 1 dob, 1 photo, 1 signature, 145.6ms\n",
      "Speed: 2.4ms preprocess, 145.6ms inference, 0.7ms postprocess per image at shape (1, 3, 480, 640)\n",
      "\n",
      "0: 480x640 1 Name, 1 Fathers Name, 1 pan number, 1 dob, 1 photo, 1 signature, 139.0ms\n",
      "Speed: 2.9ms preprocess, 139.0ms inference, 1.6ms postprocess per image at shape (1, 3, 480, 640)\n",
      "\n",
      "0: 480x640 1 Name, 1 Fathers Name, 1 pan number, 1 dob, 1 photo, 1 signature, 146.7ms\n",
      "Speed: 2.6ms preprocess, 146.7ms inference, 1.0ms postprocess per image at shape (1, 3, 480, 640)\n",
      "\n",
      "0: 480x640 1 Name, 1 Fathers Name, 2 pan numbers, 1 dob, 1 photo, 1 signature, 130.3ms\n",
      "Speed: 2.9ms preprocess, 130.3ms inference, 0.9ms postprocess per image at shape (1, 3, 480, 640)\n",
      "\n",
      "0: 480x640 1 Name, 1 Fathers Name, 1 pan number, 1 dob, 1 photo, 1 signature, 140.6ms\n",
      "Speed: 2.5ms preprocess, 140.6ms inference, 1.1ms postprocess per image at shape (1, 3, 480, 640)\n",
      "\n",
      "0: 480x640 1 Name, 1 Fathers Name, 2 pan numbers, 1 dob, 1 photo, 1 signature, 140.2ms\n",
      "Speed: 3.8ms preprocess, 140.2ms inference, 0.8ms postprocess per image at shape (1, 3, 480, 640)\n",
      "\n",
      "0: 480x640 1 Name, 1 Fathers Name, 1 pan number, 1 dob, 1 photo, 1 signature, 140.4ms\n",
      "Speed: 2.9ms preprocess, 140.4ms inference, 0.8ms postprocess per image at shape (1, 3, 480, 640)\n",
      "\n",
      "0: 480x640 1 Name, 1 Fathers Name, 1 pan number, 1 dob, 1 photo, 1 signature, 142.7ms\n",
      "Speed: 2.3ms preprocess, 142.7ms inference, 0.9ms postprocess per image at shape (1, 3, 480, 640)\n",
      "\n",
      "0: 480x640 1 Name, 1 Fathers Name, 1 pan number, 1 dob, 1 photo, 1 signature, 141.9ms\n",
      "Speed: 3.1ms preprocess, 141.9ms inference, 0.7ms postprocess per image at shape (1, 3, 480, 640)\n",
      "\n",
      "0: 480x640 1 Name, 1 Fathers Name, 1 pan number, 1 dob, 1 photo, 1 signature, 142.5ms\n",
      "Speed: 3.9ms preprocess, 142.5ms inference, 1.2ms postprocess per image at shape (1, 3, 480, 640)\n",
      "\n",
      "0: 480x640 1 Name, 1 Fathers Name, 1 pan number, 1 dob, 1 photo, 1 signature, 138.9ms\n",
      "Speed: 4.0ms preprocess, 138.9ms inference, 0.8ms postprocess per image at shape (1, 3, 480, 640)\n",
      "\n",
      "0: 480x640 1 Name, 1 Fathers Name, 1 pan number, 1 dob, 1 photo, 1 signature, 142.0ms\n",
      "Speed: 2.3ms preprocess, 142.0ms inference, 0.8ms postprocess per image at shape (1, 3, 480, 640)\n",
      "\n",
      "0: 480x640 1 Name, 2 Fathers Names, 1 pan number, 1 dob, 1 photo, 1 signature, 152.5ms\n",
      "Speed: 3.7ms preprocess, 152.5ms inference, 0.8ms postprocess per image at shape (1, 3, 480, 640)\n",
      "\n",
      "0: 480x640 1 Name, 1 Fathers Name, 1 pan number, 1 photo, 1 signature, 169.0ms\n",
      "Speed: 2.4ms preprocess, 169.0ms inference, 0.8ms postprocess per image at shape (1, 3, 480, 640)\n",
      "\n",
      "0: 480x640 1 Name, 2 Fathers Names, 1 pan number, 1 dob, 1 photo, 1 signature, 172.2ms\n",
      "Speed: 2.4ms preprocess, 172.2ms inference, 0.8ms postprocess per image at shape (1, 3, 480, 640)\n",
      "\n",
      "0: 480x640 1 Name, 2 Fathers Names, 1 pan number, 1 dob, 1 photo, 1 signature, 164.5ms\n",
      "Speed: 3.4ms preprocess, 164.5ms inference, 1.0ms postprocess per image at shape (1, 3, 480, 640)\n",
      "\n",
      "0: 480x640 1 Name, 1 Fathers Name, 1 pan number, 1 dob, 1 photo, 1 signature, 165.9ms\n",
      "Speed: 2.7ms preprocess, 165.9ms inference, 0.9ms postprocess per image at shape (1, 3, 480, 640)\n",
      "\n",
      "0: 480x640 1 Name, 4 Fathers Names, 1 pan number, 1 dob, 1 photo, 1 signature, 176.1ms\n",
      "Speed: 4.7ms preprocess, 176.1ms inference, 0.9ms postprocess per image at shape (1, 3, 480, 640)\n",
      "\n",
      "0: 480x640 1 Name, 1 Fathers Name, 1 pan number, 1 dob, 1 photo, 1 signature, 143.5ms\n",
      "Speed: 2.3ms preprocess, 143.5ms inference, 0.8ms postprocess per image at shape (1, 3, 480, 640)\n",
      "\n",
      "0: 480x640 1 Name, 1 Fathers Name, 1 pan number, 1 dob, 1 photo, 1 signature, 139.2ms\n",
      "Speed: 2.7ms preprocess, 139.2ms inference, 0.8ms postprocess per image at shape (1, 3, 480, 640)\n",
      "\n",
      "0: 480x640 1 Name, 1 Fathers Name, 1 pan number, 2 dobs, 1 photo, 1 signature, 137.5ms\n",
      "Speed: 3.6ms preprocess, 137.5ms inference, 1.1ms postprocess per image at shape (1, 3, 480, 640)\n",
      "\n",
      "0: 480x640 1 Name, 1 Fathers Name, 1 pan number, 2 dobs, 1 photo, 1 signature, 136.3ms\n",
      "Speed: 2.1ms preprocess, 136.3ms inference, 1.4ms postprocess per image at shape (1, 3, 480, 640)\n",
      "\n",
      "0: 480x640 1 Name, 1 Fathers Name, 1 pan number, 1 dob, 1 photo, 1 signature, 166.5ms\n",
      "Speed: 8.3ms preprocess, 166.5ms inference, 0.8ms postprocess per image at shape (1, 3, 480, 640)\n",
      "\n",
      "0: 480x640 1 Name, 1 Fathers Name, 1 pan number, 1 dob, 1 photo, 1 signature, 135.5ms\n",
      "Speed: 4.4ms preprocess, 135.5ms inference, 3.6ms postprocess per image at shape (1, 3, 480, 640)\n",
      "\n",
      "0: 480x640 1 Name, 1 Fathers Name, 1 pan number, 1 dob, 1 photo, 1 signature, 141.3ms\n",
      "Speed: 2.5ms preprocess, 141.3ms inference, 0.8ms postprocess per image at shape (1, 3, 480, 640)\n",
      "\n",
      "0: 480x640 1 Name, 1 Fathers Name, 1 pan number, 2 dobs, 1 photo, 1 signature, 277.4ms\n",
      "Speed: 3.2ms preprocess, 277.4ms inference, 0.8ms postprocess per image at shape (1, 3, 480, 640)\n",
      "\n",
      "0: 480x640 1 Name, 1 Fathers Name, 1 pan number, 2 dobs, 1 photo, 1 signature, 138.4ms\n",
      "Speed: 3.0ms preprocess, 138.4ms inference, 0.8ms postprocess per image at shape (1, 3, 480, 640)\n",
      "\n",
      "0: 480x640 1 Name, 1 Fathers Name, 1 pan number, 1 dob, 1 photo, 1 signature, 139.7ms\n",
      "Speed: 2.4ms preprocess, 139.7ms inference, 0.7ms postprocess per image at shape (1, 3, 480, 640)\n",
      "\n",
      "0: 480x640 1 Name, 1 Fathers Name, 1 pan number, 1 dob, 1 photo, 1 signature, 142.5ms\n",
      "Speed: 2.6ms preprocess, 142.5ms inference, 0.7ms postprocess per image at shape (1, 3, 480, 640)\n",
      "\n",
      "0: 480x640 1 Name, 1 Fathers Name, 1 pan number, 1 dob, 1 photo, 1 signature, 140.0ms\n",
      "Speed: 2.4ms preprocess, 140.0ms inference, 0.9ms postprocess per image at shape (1, 3, 480, 640)\n",
      "\n",
      "0: 480x640 1 Name, 1 Fathers Name, 1 pan number, 1 dob, 1 photo, 1 signature, 153.3ms\n",
      "Speed: 2.6ms preprocess, 153.3ms inference, 0.8ms postprocess per image at shape (1, 3, 480, 640)\n",
      "\n",
      "0: 480x640 1 Name, 1 Fathers Name, 1 pan number, 1 dob, 1 photo, 1 signature, 133.2ms\n",
      "Speed: 2.3ms preprocess, 133.2ms inference, 1.1ms postprocess per image at shape (1, 3, 480, 640)\n",
      "\n",
      "0: 480x640 1 Name, 1 Fathers Name, 1 pan number, 1 dob, 1 photo, 1 signature, 139.5ms\n",
      "Speed: 4.8ms preprocess, 139.5ms inference, 0.9ms postprocess per image at shape (1, 3, 480, 640)\n",
      "\n",
      "0: 480x640 1 Name, 1 Fathers Name, 1 pan number, 2 dobs, 1 photo, 1 signature, 134.5ms\n",
      "Speed: 2.6ms preprocess, 134.5ms inference, 1.1ms postprocess per image at shape (1, 3, 480, 640)\n",
      "\n",
      "0: 480x640 1 Name, 1 Fathers Name, 1 pan number, 1 dob, 1 photo, 1 signature, 140.7ms\n",
      "Speed: 2.9ms preprocess, 140.7ms inference, 0.9ms postprocess per image at shape (1, 3, 480, 640)\n",
      "\n",
      "0: 480x640 1 Name, 1 Fathers Name, 1 pan number, 2 dobs, 1 photo, 1 signature, 136.0ms\n",
      "Speed: 2.1ms preprocess, 136.0ms inference, 1.5ms postprocess per image at shape (1, 3, 480, 640)\n",
      "\n",
      "0: 480x640 1 Name, 1 Fathers Name, 1 pan number, 1 dob, 1 photo, 1 signature, 139.0ms\n",
      "Speed: 5.1ms preprocess, 139.0ms inference, 0.8ms postprocess per image at shape (1, 3, 480, 640)\n",
      "\n",
      "0: 480x640 1 Name, 1 Fathers Name, 1 pan number, 2 dobs, 1 photo, 1 signature, 137.9ms\n",
      "Speed: 2.3ms preprocess, 137.9ms inference, 1.1ms postprocess per image at shape (1, 3, 480, 640)\n",
      "\n",
      "0: 480x640 1 Name, 1 Fathers Name, 1 pan number, 1 dob, 1 photo, 1 signature, 138.2ms\n",
      "Speed: 3.5ms preprocess, 138.2ms inference, 0.8ms postprocess per image at shape (1, 3, 480, 640)\n",
      "\n",
      "0: 480x640 1 Name, 1 Fathers Name, 1 pan number, 1 dob, 1 photo, 1 signature, 137.5ms\n",
      "Speed: 3.0ms preprocess, 137.5ms inference, 1.1ms postprocess per image at shape (1, 3, 480, 640)\n",
      "\n",
      "0: 480x640 1 Name, 1 Fathers Name, 1 pan number, 2 dobs, 1 photo, 1 signature, 134.3ms\n",
      "Speed: 3.6ms preprocess, 134.3ms inference, 0.8ms postprocess per image at shape (1, 3, 480, 640)\n",
      "\n",
      "0: 480x640 1 Name, 1 Fathers Name, 1 pan number, 2 dobs, 1 photo, 1 signature, 140.7ms\n",
      "Speed: 2.5ms preprocess, 140.7ms inference, 2.0ms postprocess per image at shape (1, 3, 480, 640)\n",
      "\n",
      "0: 480x640 1 Name, 1 Fathers Name, 1 pan number, 2 dobs, 1 photo, 1 signature, 139.9ms\n",
      "Speed: 2.0ms preprocess, 139.9ms inference, 0.8ms postprocess per image at shape (1, 3, 480, 640)\n",
      "\n",
      "0: 480x640 1 Name, 1 Fathers Name, 1 pan number, 1 dob, 1 photo, 1 signature, 140.8ms\n",
      "Speed: 2.0ms preprocess, 140.8ms inference, 1.1ms postprocess per image at shape (1, 3, 480, 640)\n",
      "\n",
      "0: 480x640 1 Name, 1 Fathers Name, 1 pan number, 1 dob, 1 photo, 1 signature, 135.3ms\n",
      "Speed: 2.5ms preprocess, 135.3ms inference, 0.9ms postprocess per image at shape (1, 3, 480, 640)\n",
      "\n",
      "0: 480x640 1 Name, 1 Fathers Name, 1 pan number, 1 dob, 1 photo, 1 signature, 144.1ms\n",
      "Speed: 2.6ms preprocess, 144.1ms inference, 1.1ms postprocess per image at shape (1, 3, 480, 640)\n",
      "\n",
      "0: 480x640 1 Name, 1 Fathers Name, 1 pan number, 1 photo, 1 signature, 142.1ms\n",
      "Speed: 3.5ms preprocess, 142.1ms inference, 0.8ms postprocess per image at shape (1, 3, 480, 640)\n",
      "\n",
      "0: 480x640 1 Name, 1 Fathers Name, 1 pan number, 1 dob, 1 photo, 1 signature, 141.3ms\n",
      "Speed: 2.5ms preprocess, 141.3ms inference, 0.8ms postprocess per image at shape (1, 3, 480, 640)\n",
      "\n",
      "0: 480x640 1 Name, 1 Fathers Name, 1 pan number, 1 photo, 1 signature, 136.9ms\n",
      "Speed: 2.5ms preprocess, 136.9ms inference, 1.7ms postprocess per image at shape (1, 3, 480, 640)\n",
      "\n",
      "0: 480x640 1 Name, 1 Fathers Name, 1 pan number, 1 dob, 1 photo, 1 signature, 142.1ms\n",
      "Speed: 2.7ms preprocess, 142.1ms inference, 0.7ms postprocess per image at shape (1, 3, 480, 640)\n",
      "\n",
      "0: 480x640 1 Name, 1 pan number, 1 photo, 1 signature, 143.9ms\n",
      "Speed: 2.5ms preprocess, 143.9ms inference, 1.2ms postprocess per image at shape (1, 3, 480, 640)\n",
      "\n",
      "0: 480x640 1 Name, 1 pan number, 1 photo, 1 signature, 140.4ms\n",
      "Speed: 3.6ms preprocess, 140.4ms inference, 0.7ms postprocess per image at shape (1, 3, 480, 640)\n",
      "\n",
      "0: 480x640 1 Name, 1 pan number, 1 photo, 1 signature, 141.5ms\n",
      "Speed: 4.2ms preprocess, 141.5ms inference, 0.8ms postprocess per image at shape (1, 3, 480, 640)\n",
      "\n",
      "0: 480x640 1 Name, 1 pan number, 1 photo, 1 signature, 134.0ms\n",
      "Speed: 5.2ms preprocess, 134.0ms inference, 0.8ms postprocess per image at shape (1, 3, 480, 640)\n",
      "\n",
      "0: 480x640 1 Name, 1 Fathers Name, 1 pan number, 1 photo, 1 signature, 141.6ms\n",
      "Speed: 2.9ms preprocess, 141.6ms inference, 0.8ms postprocess per image at shape (1, 3, 480, 640)\n",
      "\n",
      "0: 480x640 1 Name, 1 pan number, 1 photo, 1 signature, 146.6ms\n",
      "Speed: 3.2ms preprocess, 146.6ms inference, 0.8ms postprocess per image at shape (1, 3, 480, 640)\n",
      "\n",
      "0: 480x640 1 Name, 1 pan number, 1 photo, 1 signature, 141.9ms\n",
      "Speed: 3.0ms preprocess, 141.9ms inference, 0.7ms postprocess per image at shape (1, 3, 480, 640)\n",
      "\n",
      "0: 480x640 1 pan number, 1 photo, 1 signature, 141.3ms\n",
      "Speed: 3.4ms preprocess, 141.3ms inference, 0.7ms postprocess per image at shape (1, 3, 480, 640)\n",
      "\n",
      "0: 480x640 1 Fathers Name, 1 pan number, 1 dob, 1 photo, 141.5ms\n",
      "Speed: 2.3ms preprocess, 141.5ms inference, 1.1ms postprocess per image at shape (1, 3, 480, 640)\n",
      "\n",
      "0: 480x640 1 Name, 1 Fathers Name, 2 pan numbers, 1 dob, 1 photo, 1 signature, 136.2ms\n",
      "Speed: 2.5ms preprocess, 136.2ms inference, 1.4ms postprocess per image at shape (1, 3, 480, 640)\n",
      "\n",
      "0: 480x640 1 Name, 1 Fathers Name, 1 pan number, 1 dob, 1 photo, 1 signature, 143.7ms\n",
      "Speed: 3.8ms preprocess, 143.7ms inference, 1.2ms postprocess per image at shape (1, 3, 480, 640)\n",
      "\n",
      "0: 480x640 1 Name, 1 Fathers Name, 1 pan number, 1 dob, 1 photo, 1 signature, 142.5ms\n",
      "Speed: 2.4ms preprocess, 142.5ms inference, 2.0ms postprocess per image at shape (1, 3, 480, 640)\n",
      "\n",
      "0: 480x640 1 Name, 1 Fathers Name, 1 pan number, 1 dob, 1 photo, 1 signature, 142.7ms\n",
      "Speed: 2.3ms preprocess, 142.7ms inference, 0.8ms postprocess per image at shape (1, 3, 480, 640)\n",
      "\n",
      "0: 480x640 1 Name, 1 Fathers Name, 1 pan number, 1 dob, 1 photo, 1 signature, 141.2ms\n",
      "Speed: 2.9ms preprocess, 141.2ms inference, 1.1ms postprocess per image at shape (1, 3, 480, 640)\n",
      "\n",
      "0: 480x640 1 Name, 3 Fathers Names, 1 pan number, 1 dob, 1 photo, 1 signature, 137.8ms\n",
      "Speed: 3.0ms preprocess, 137.8ms inference, 1.2ms postprocess per image at shape (1, 3, 480, 640)\n",
      "\n",
      "0: 480x640 1 Name, 1 Fathers Name, 1 pan number, 2 dobs, 1 photo, 1 signature, 145.8ms\n",
      "Speed: 2.7ms preprocess, 145.8ms inference, 0.8ms postprocess per image at shape (1, 3, 480, 640)\n",
      "\n",
      "0: 480x640 1 Name, 1 Fathers Name, 1 pan number, 1 dob, 1 photo, 1 signature, 145.1ms\n",
      "Speed: 3.0ms preprocess, 145.1ms inference, 1.0ms postprocess per image at shape (1, 3, 480, 640)\n",
      "\n",
      "0: 480x640 1 Name, 1 Fathers Name, 1 pan number, 2 dobs, 1 photo, 1 signature, 149.6ms\n",
      "Speed: 3.9ms preprocess, 149.6ms inference, 0.7ms postprocess per image at shape (1, 3, 480, 640)\n",
      "\n",
      "0: 480x640 1 Name, 1 Fathers Name, 1 pan number, 1 dob, 1 photo, 1 signature, 142.2ms\n",
      "Speed: 2.4ms preprocess, 142.2ms inference, 0.7ms postprocess per image at shape (1, 3, 480, 640)\n",
      "\n",
      "0: 480x640 1 Name, 1 Fathers Name, 1 pan number, 1 dob, 1 photo, 1 signature, 136.2ms\n",
      "Speed: 3.2ms preprocess, 136.2ms inference, 0.8ms postprocess per image at shape (1, 3, 480, 640)\n",
      "\n",
      "0: 480x640 1 Name, 1 Fathers Name, 1 pan number, 1 dob, 1 photo, 1 signature, 138.1ms\n",
      "Speed: 2.7ms preprocess, 138.1ms inference, 0.7ms postprocess per image at shape (1, 3, 480, 640)\n",
      "\n",
      "0: 480x640 1 Name, 1 Fathers Name, 1 pan number, 1 dob, 1 photo, 1 signature, 138.7ms\n",
      "Speed: 2.3ms preprocess, 138.7ms inference, 1.3ms postprocess per image at shape (1, 3, 480, 640)\n",
      "\n",
      "0: 480x640 1 Name, 1 Fathers Name, 1 pan number, 1 dob, 1 photo, 1 signature, 143.0ms\n",
      "Speed: 2.5ms preprocess, 143.0ms inference, 0.8ms postprocess per image at shape (1, 3, 480, 640)\n",
      "\n",
      "0: 480x640 1 Name, 1 Fathers Name, 1 pan number, 1 dob, 1 photo, 1 signature, 141.6ms\n",
      "Speed: 4.8ms preprocess, 141.6ms inference, 0.8ms postprocess per image at shape (1, 3, 480, 640)\n",
      "\n",
      "0: 480x640 1 Name, 1 Fathers Name, 2 pan numbers, 1 dob, 1 photo, 1 signature, 138.2ms\n",
      "Speed: 2.4ms preprocess, 138.2ms inference, 0.8ms postprocess per image at shape (1, 3, 480, 640)\n",
      "\n",
      "0: 480x640 1 Name, 1 Fathers Name, 1 pan number, 1 dob, 1 photo, 1 signature, 138.5ms\n",
      "Speed: 2.7ms preprocess, 138.5ms inference, 0.7ms postprocess per image at shape (1, 3, 480, 640)\n",
      "\n",
      "0: 480x640 1 Name, 1 Fathers Name, 1 pan number, 1 dob, 1 photo, 1 signature, 141.6ms\n",
      "Speed: 2.5ms preprocess, 141.6ms inference, 1.3ms postprocess per image at shape (1, 3, 480, 640)\n",
      "\n",
      "0: 480x640 1 Name, 1 Fathers Name, 1 pan number, 1 dob, 1 photo, 1 signature, 148.9ms\n",
      "Speed: 3.3ms preprocess, 148.9ms inference, 1.1ms postprocess per image at shape (1, 3, 480, 640)\n",
      "\n",
      "0: 480x640 1 Name, 1 Fathers Name, 1 pan number, 1 dob, 1 photo, 1 signature, 143.5ms\n",
      "Speed: 2.3ms preprocess, 143.5ms inference, 0.8ms postprocess per image at shape (1, 3, 480, 640)\n",
      "\n",
      "0: 480x640 1 Name, 1 Fathers Name, 1 pan number, 1 dob, 1 photo, 1 signature, 139.4ms\n",
      "Speed: 3.1ms preprocess, 139.4ms inference, 0.8ms postprocess per image at shape (1, 3, 480, 640)\n",
      "\n",
      "0: 480x640 1 Name, 1 Fathers Name, 1 pan number, 2 dobs, 1 photo, 1 signature, 137.0ms\n",
      "Speed: 2.4ms preprocess, 137.0ms inference, 0.9ms postprocess per image at shape (1, 3, 480, 640)\n",
      "\n",
      "0: 480x640 1 Name, 1 Fathers Name, 1 pan number, 2 dobs, 1 photo, 1 signature, 144.0ms\n",
      "Speed: 2.2ms preprocess, 144.0ms inference, 1.1ms postprocess per image at shape (1, 3, 480, 640)\n",
      "\n",
      "0: 480x640 1 Name, 1 Fathers Name, 1 pan number, 1 dob, 1 photo, 1 signature, 137.0ms\n",
      "Speed: 3.9ms preprocess, 137.0ms inference, 0.8ms postprocess per image at shape (1, 3, 480, 640)\n",
      "\n",
      "0: 480x640 1 Name, 1 Fathers Name, 1 pan number, 1 dob, 1 photo, 1 signature, 140.3ms\n",
      "Speed: 4.1ms preprocess, 140.3ms inference, 1.0ms postprocess per image at shape (1, 3, 480, 640)\n",
      "\n",
      "0: 480x640 1 Name, 1 Fathers Name, 1 pan number, 1 dob, 1 photo, 1 signature, 144.8ms\n",
      "Speed: 2.5ms preprocess, 144.8ms inference, 1.1ms postprocess per image at shape (1, 3, 480, 640)\n",
      "\n",
      "0: 480x640 1 Name, 1 Fathers Name, 1 pan number, 1 dob, 1 photo, 1 signature, 142.0ms\n",
      "Speed: 2.5ms preprocess, 142.0ms inference, 0.8ms postprocess per image at shape (1, 3, 480, 640)\n",
      "\n",
      "0: 480x640 1 Name, 1 Fathers Name, 1 pan number, 1 dob, 2 photos, 1 signature, 145.6ms\n",
      "Speed: 2.8ms preprocess, 145.6ms inference, 0.8ms postprocess per image at shape (1, 3, 480, 640)\n",
      "\n",
      "0: 480x640 1 Name, 1 Fathers Name, 1 pan number, 1 dob, 1 photo, 1 signature, 176.4ms\n",
      "Speed: 2.8ms preprocess, 176.4ms inference, 1.1ms postprocess per image at shape (1, 3, 480, 640)\n",
      "\n",
      "0: 480x640 1 Name, 1 Fathers Name, 1 pan number, 2 dobs, 1 photo, 1 signature, 137.8ms\n",
      "Speed: 4.3ms preprocess, 137.8ms inference, 0.8ms postprocess per image at shape (1, 3, 480, 640)\n",
      "\n",
      "0: 480x640 2 Names, 1 Fathers Name, 1 pan number, 1 dob, 1 photo, 1 signature, 144.3ms\n",
      "Speed: 3.1ms preprocess, 144.3ms inference, 1.2ms postprocess per image at shape (1, 3, 480, 640)\n",
      "\n",
      "0: 480x640 1 Name, 2 Fathers Names, 1 pan number, 1 dob, 1 photo, 1 signature, 140.5ms\n",
      "Speed: 2.7ms preprocess, 140.5ms inference, 0.8ms postprocess per image at shape (1, 3, 480, 640)\n",
      "\n",
      "0: 480x640 1 Name, 1 Fathers Name, 1 pan number, 1 dob, 1 photo, 1 signature, 148.8ms\n",
      "Speed: 2.2ms preprocess, 148.8ms inference, 0.9ms postprocess per image at shape (1, 3, 480, 640)\n",
      "\n",
      "0: 480x640 1 Name, 1 pan number, 1 dob, 1 photo, 1 signature, 136.5ms\n",
      "Speed: 3.4ms preprocess, 136.5ms inference, 0.9ms postprocess per image at shape (1, 3, 480, 640)\n",
      "\n",
      "0: 480x640 1 Name, 2 Fathers Names, 1 pan number, 1 dob, 1 photo, 1 signature, 138.6ms\n",
      "Speed: 2.3ms preprocess, 138.6ms inference, 0.8ms postprocess per image at shape (1, 3, 480, 640)\n",
      "\n",
      "0: 480x640 1 Name, 1 pan number, 1 dob, 1 photo, 1 signature, 136.6ms\n",
      "Speed: 3.1ms preprocess, 136.6ms inference, 0.8ms postprocess per image at shape (1, 3, 480, 640)\n",
      "\n",
      "0: 480x640 1 Name, 1 Fathers Name, 1 pan number, 1 photo, 1 signature, 135.9ms\n",
      "Speed: 3.8ms preprocess, 135.9ms inference, 1.1ms postprocess per image at shape (1, 3, 480, 640)\n",
      "\n",
      "0: 480x640 1 Name, 1 Fathers Name, 1 pan number, 1 dob, 1 photo, 1 signature, 142.3ms\n",
      "Speed: 4.8ms preprocess, 142.3ms inference, 0.9ms postprocess per image at shape (1, 3, 480, 640)\n",
      "\n",
      "0: 480x640 1 Name, 1 pan number, 1 photo, 1 signature, 144.0ms\n",
      "Speed: 2.3ms preprocess, 144.0ms inference, 0.8ms postprocess per image at shape (1, 3, 480, 640)\n",
      "\n",
      "0: 480x640 1 Name, 1 Fathers Name, 1 pan number, 1 dob, 1 photo, 1 signature, 138.0ms\n",
      "Speed: 4.5ms preprocess, 138.0ms inference, 0.9ms postprocess per image at shape (1, 3, 480, 640)\n",
      "\n",
      "0: 480x640 1 Name, 1 pan number, 1 photo, 1 signature, 145.2ms\n",
      "Speed: 2.9ms preprocess, 145.2ms inference, 0.8ms postprocess per image at shape (1, 3, 480, 640)\n",
      "\n",
      "0: 480x640 1 Name, 1 pan number, 1 photo, 1 signature, 153.6ms\n",
      "Speed: 10.0ms preprocess, 153.6ms inference, 1.4ms postprocess per image at shape (1, 3, 480, 640)\n",
      "\n",
      "0: 480x640 1 Name, 1 Fathers Name, 1 pan number, 1 dob, 1 photo, 1 signature, 146.5ms\n",
      "Speed: 2.4ms preprocess, 146.5ms inference, 0.7ms postprocess per image at shape (1, 3, 480, 640)\n",
      "\n",
      "0: 480x640 1 Name, 1 Fathers Name, 1 pan number, 1 dob, 1 photo, 1 signature, 148.4ms\n",
      "Speed: 3.1ms preprocess, 148.4ms inference, 1.0ms postprocess per image at shape (1, 3, 480, 640)\n",
      "\n",
      "0: 480x640 1 Name, 1 Fathers Name, 1 pan number, 1 dob, 1 photo, 1 signature, 140.7ms\n",
      "Speed: 3.4ms preprocess, 140.7ms inference, 0.8ms postprocess per image at shape (1, 3, 480, 640)\n",
      "\n",
      "0: 480x640 1 Name, 1 Fathers Name, 1 pan number, 1 dob, 1 photo, 1 signature, 146.2ms\n",
      "Speed: 4.1ms preprocess, 146.2ms inference, 1.0ms postprocess per image at shape (1, 3, 480, 640)\n",
      "\n",
      "0: 480x640 1 Name, 1 Fathers Name, 1 pan number, 2 dobs, 1 photo, 1 signature, 149.6ms\n",
      "Speed: 2.5ms preprocess, 149.6ms inference, 1.2ms postprocess per image at shape (1, 3, 480, 640)\n",
      "\n",
      "0: 480x640 1 Name, 1 Fathers Name, 1 pan number, 2 dobs, 1 photo, 1 signature, 138.9ms\n",
      "Speed: 2.5ms preprocess, 138.9ms inference, 1.1ms postprocess per image at shape (1, 3, 480, 640)\n",
      "\n",
      "0: 480x640 1 Name, 1 Fathers Name, 1 pan number, 1 dob, 1 photo, 1 signature, 135.5ms\n",
      "Speed: 2.8ms preprocess, 135.5ms inference, 0.7ms postprocess per image at shape (1, 3, 480, 640)\n",
      "\n",
      "0: 480x640 1 Name, 1 Fathers Name, 1 pan number, 1 dob, 1 photo, 1 signature, 141.8ms\n",
      "Speed: 2.4ms preprocess, 141.8ms inference, 0.8ms postprocess per image at shape (1, 3, 480, 640)\n",
      "\n",
      "0: 480x640 1 Name, 1 Fathers Name, 1 pan number, 1 dob, 1 photo, 1 signature, 145.7ms\n",
      "Speed: 2.5ms preprocess, 145.7ms inference, 0.8ms postprocess per image at shape (1, 3, 480, 640)\n",
      "\n",
      "0: 480x640 1 Name, 2 Fathers Names, 1 pan number, 1 dob, 1 photo, 1 signature, 143.8ms\n",
      "Speed: 2.6ms preprocess, 143.8ms inference, 0.9ms postprocess per image at shape (1, 3, 480, 640)\n",
      "\n",
      "0: 480x640 1 Name, 1 Fathers Name, 1 pan number, 1 dob, 1 photo, 1 signature, 140.4ms\n",
      "Speed: 2.4ms preprocess, 140.4ms inference, 0.9ms postprocess per image at shape (1, 3, 480, 640)\n",
      "\n",
      "0: 480x640 1 Name, 1 pan number, 1 dob, 1 photo, 1 signature, 146.7ms\n",
      "Speed: 2.7ms preprocess, 146.7ms inference, 0.9ms postprocess per image at shape (1, 3, 480, 640)\n",
      "\n",
      "0: 480x640 1 Name, 1 pan number, 1 dob, 1 photo, 1 signature, 150.4ms\n",
      "Speed: 2.3ms preprocess, 150.4ms inference, 1.4ms postprocess per image at shape (1, 3, 480, 640)\n",
      "\n",
      "0: 480x640 1 Name, 1 Fathers Name, 1 pan number, 1 dob, 1 photo, 1 signature, 142.7ms\n",
      "Speed: 2.4ms preprocess, 142.7ms inference, 0.8ms postprocess per image at shape (1, 3, 480, 640)\n",
      "\n",
      "0: 480x640 1 Name, 1 pan number, 1 dob, 1 photo, 1 signature, 149.5ms\n",
      "Speed: 4.0ms preprocess, 149.5ms inference, 1.3ms postprocess per image at shape (1, 3, 480, 640)\n",
      "\n",
      "0: 480x640 1 Name, 1 pan number, 2 dobs, 1 photo, 1 signature, 139.7ms\n",
      "Speed: 2.4ms preprocess, 139.7ms inference, 0.8ms postprocess per image at shape (1, 3, 480, 640)\n",
      "\n",
      "0: 480x640 1 Name, 1 Fathers Name, 1 pan number, 1 dob, 1 photo, 1 signature, 152.3ms\n",
      "Speed: 3.2ms preprocess, 152.3ms inference, 0.8ms postprocess per image at shape (1, 3, 480, 640)\n",
      "\n",
      "0: 480x640 1 Name, 1 Fathers Name, 1 pan number, 1 dob, 1 photo, 1 signature, 137.2ms\n",
      "Speed: 2.7ms preprocess, 137.2ms inference, 1.1ms postprocess per image at shape (1, 3, 480, 640)\n",
      "\n",
      "0: 480x640 1 Name, 1 Fathers Name, 1 pan number, 1 dob, 1 photo, 1 signature, 140.6ms\n",
      "Speed: 8.0ms preprocess, 140.6ms inference, 0.7ms postprocess per image at shape (1, 3, 480, 640)\n",
      "\n",
      "0: 480x640 1 Name, 1 Fathers Name, 1 pan number, 2 dobs, 1 photo, 1 signature, 142.4ms\n",
      "Speed: 3.4ms preprocess, 142.4ms inference, 1.2ms postprocess per image at shape (1, 3, 480, 640)\n",
      "\n",
      "0: 480x640 1 Name, 1 Fathers Name, 1 pan number, 1 dob, 1 photo, 1 signature, 137.4ms\n",
      "Speed: 2.3ms preprocess, 137.4ms inference, 0.8ms postprocess per image at shape (1, 3, 480, 640)\n",
      "\n",
      "0: 480x640 1 Name, 1 Fathers Name, 1 pan number, 1 dob, 1 photo, 1 signature, 143.4ms\n",
      "Speed: 2.3ms preprocess, 143.4ms inference, 0.9ms postprocess per image at shape (1, 3, 480, 640)\n",
      "\n",
      "0: 480x640 1 Name, 1 Fathers Name, 1 pan number, 1 dob, 1 photo, 1 signature, 148.2ms\n",
      "Speed: 3.0ms preprocess, 148.2ms inference, 0.9ms postprocess per image at shape (1, 3, 480, 640)\n",
      "\n",
      "0: 480x640 1 Name, 1 Fathers Name, 1 pan number, 1 dob, 1 photo, 1 signature, 153.5ms\n",
      "Speed: 3.7ms preprocess, 153.5ms inference, 0.7ms postprocess per image at shape (1, 3, 480, 640)\n",
      "\n",
      "0: 480x640 1 Name, 1 Fathers Name, 1 pan number, 1 dob, 1 photo, 1 signature, 145.5ms\n",
      "Speed: 4.0ms preprocess, 145.5ms inference, 0.8ms postprocess per image at shape (1, 3, 480, 640)\n",
      "\n",
      "0: 480x640 1 Name, 1 Fathers Name, 1 pan number, 1 dob, 1 photo, 1 signature, 147.9ms\n",
      "Speed: 3.5ms preprocess, 147.9ms inference, 0.7ms postprocess per image at shape (1, 3, 480, 640)\n",
      "\n",
      "0: 480x640 1 Name, 1 Fathers Name, 1 pan number, 1 dob, 1 photo, 1 signature, 151.5ms\n",
      "Speed: 3.1ms preprocess, 151.5ms inference, 0.8ms postprocess per image at shape (1, 3, 480, 640)\n",
      "\n",
      "0: 480x640 1 Name, 1 Fathers Name, 1 pan number, 1 dob, 1 photo, 1 signature, 142.0ms\n",
      "Speed: 2.7ms preprocess, 142.0ms inference, 0.9ms postprocess per image at shape (1, 3, 480, 640)\n",
      "\n",
      "0: 480x640 1 Name, 1 Fathers Name, 1 pan number, 1 dob, 1 photo, 1 signature, 144.6ms\n",
      "Speed: 3.4ms preprocess, 144.6ms inference, 0.8ms postprocess per image at shape (1, 3, 480, 640)\n",
      "\n",
      "0: 480x640 1 Name, 1 Fathers Name, 1 pan number, 1 dob, 1 photo, 1 signature, 164.6ms\n",
      "Speed: 2.5ms preprocess, 164.6ms inference, 0.8ms postprocess per image at shape (1, 3, 480, 640)\n",
      "\n",
      "0: 480x640 1 Name, 1 Fathers Name, 1 pan number, 1 dob, 1 photo, 1 signature, 144.4ms\n",
      "Speed: 2.2ms preprocess, 144.4ms inference, 0.8ms postprocess per image at shape (1, 3, 480, 640)\n",
      "\n",
      "0: 480x640 1 Name, 1 Fathers Name, 1 pan number, 2 dobs, 1 photo, 1 signature, 151.2ms\n",
      "Speed: 2.2ms preprocess, 151.2ms inference, 1.3ms postprocess per image at shape (1, 3, 480, 640)\n",
      "\n",
      "0: 480x640 1 Name, 1 Fathers Name, 1 pan number, 1 dob, 1 photo, 1 signature, 140.8ms\n",
      "Speed: 3.1ms preprocess, 140.8ms inference, 1.0ms postprocess per image at shape (1, 3, 480, 640)\n",
      "\n",
      "0: 480x640 1 Name, 1 Fathers Name, 1 pan number, 2 dobs, 1 photo, 1 signature, 143.4ms\n",
      "Speed: 2.8ms preprocess, 143.4ms inference, 1.4ms postprocess per image at shape (1, 3, 480, 640)\n",
      "\n",
      "0: 480x640 1 Name, 1 Fathers Name, 1 pan number, 1 dob, 1 photo, 1 signature, 142.9ms\n",
      "Speed: 2.4ms preprocess, 142.9ms inference, 0.8ms postprocess per image at shape (1, 3, 480, 640)\n",
      "\n",
      "0: 480x640 1 Name, 1 Fathers Name, 1 pan number, 1 dob, 1 photo, 1 signature, 139.5ms\n",
      "Speed: 4.3ms preprocess, 139.5ms inference, 0.8ms postprocess per image at shape (1, 3, 480, 640)\n",
      "\n",
      "0: 480x640 1 Name, 1 Fathers Name, 1 pan number, 1 dob, 1 photo, 1 signature, 155.7ms\n",
      "Speed: 2.3ms preprocess, 155.7ms inference, 1.0ms postprocess per image at shape (1, 3, 480, 640)\n",
      "\n",
      "0: 480x640 1 Name, 1 Fathers Name, 1 pan number, 1 dob, 1 photo, 1 signature, 307.8ms\n",
      "Speed: 3.1ms preprocess, 307.8ms inference, 2.9ms postprocess per image at shape (1, 3, 480, 640)\n",
      "\n",
      "0: 480x640 1 Name, 1 Fathers Name, 1 pan number, 2 dobs, 1 photo, 1 signature, 139.6ms\n",
      "Speed: 2.3ms preprocess, 139.6ms inference, 0.8ms postprocess per image at shape (1, 3, 480, 640)\n",
      "\n",
      "0: 480x640 1 Name, 1 Fathers Name, 1 pan number, 1 dob, 1 photo, 1 signature, 150.8ms\n",
      "Speed: 2.2ms preprocess, 150.8ms inference, 0.7ms postprocess per image at shape (1, 3, 480, 640)\n",
      "\n",
      "0: 480x640 1 Name, 1 Fathers Name, 1 pan number, 1 dob, 1 photo, 1 signature, 141.3ms\n",
      "Speed: 3.1ms preprocess, 141.3ms inference, 0.8ms postprocess per image at shape (1, 3, 480, 640)\n",
      "\n",
      "0: 480x640 1 Name, 1 Fathers Name, 1 pan number, 1 dob, 1 photo, 1 signature, 145.7ms\n",
      "Speed: 2.7ms preprocess, 145.7ms inference, 0.9ms postprocess per image at shape (1, 3, 480, 640)\n",
      "\n",
      "0: 480x640 1 Name, 1 Fathers Name, 1 pan number, 1 dob, 1 photo, 1 signature, 143.7ms\n",
      "Speed: 3.5ms preprocess, 143.7ms inference, 0.8ms postprocess per image at shape (1, 3, 480, 640)\n",
      "\n",
      "0: 480x640 1 Name, 1 Fathers Name, 1 pan number, 1 dob, 1 photo, 1 signature, 135.7ms\n",
      "Speed: 4.2ms preprocess, 135.7ms inference, 1.4ms postprocess per image at shape (1, 3, 480, 640)\n",
      "\n",
      "0: 480x640 1 Name, 1 Fathers Name, 1 pan number, 1 dob, 1 photo, 1 signature, 143.5ms\n",
      "Speed: 3.3ms preprocess, 143.5ms inference, 0.8ms postprocess per image at shape (1, 3, 480, 640)\n",
      "\n",
      "0: 480x640 1 Name, 1 Fathers Name, 1 pan number, 1 dob, 1 photo, 1 signature, 137.6ms\n",
      "Speed: 2.8ms preprocess, 137.6ms inference, 1.3ms postprocess per image at shape (1, 3, 480, 640)\n",
      "\n",
      "0: 480x640 1 Name, 1 Fathers Name, 1 pan number, 1 dob, 1 photo, 1 signature, 146.9ms\n",
      "Speed: 2.1ms preprocess, 146.9ms inference, 0.9ms postprocess per image at shape (1, 3, 480, 640)\n",
      "\n",
      "0: 480x640 1 Name, 1 Fathers Name, 1 pan number, 1 dob, 1 photo, 1 signature, 182.7ms\n",
      "Speed: 9.9ms preprocess, 182.7ms inference, 1.5ms postprocess per image at shape (1, 3, 480, 640)\n",
      "\n",
      "0: 480x640 (no detections), 150.2ms\n",
      "Speed: 3.0ms preprocess, 150.2ms inference, 1.1ms postprocess per image at shape (1, 3, 480, 640)\n",
      "\n",
      "0: 480x640 (no detections), 158.4ms\n",
      "Speed: 1.7ms preprocess, 158.4ms inference, 0.6ms postprocess per image at shape (1, 3, 480, 640)\n",
      "\n",
      "0: 480x640 1 photo, 146.7ms\n",
      "Speed: 2.3ms preprocess, 146.7ms inference, 1.0ms postprocess per image at shape (1, 3, 480, 640)\n",
      "\n",
      "0: 480x640 1 photo, 153.2ms\n",
      "Speed: 3.5ms preprocess, 153.2ms inference, 0.7ms postprocess per image at shape (1, 3, 480, 640)\n",
      "\n",
      "0: 480x640 1 photo, 134.3ms\n",
      "Speed: 2.6ms preprocess, 134.3ms inference, 0.8ms postprocess per image at shape (1, 3, 480, 640)\n",
      "\n",
      "0: 480x640 1 photo, 200.5ms\n",
      "Speed: 3.7ms preprocess, 200.5ms inference, 0.8ms postprocess per image at shape (1, 3, 480, 640)\n",
      "\n",
      "0: 480x640 1 photo, 144.1ms\n",
      "Speed: 3.7ms preprocess, 144.1ms inference, 0.9ms postprocess per image at shape (1, 3, 480, 640)\n",
      "\n",
      "0: 480x640 1 photo, 141.3ms\n",
      "Speed: 2.2ms preprocess, 141.3ms inference, 1.2ms postprocess per image at shape (1, 3, 480, 640)\n",
      "\n",
      "0: 480x640 1 photo, 145.6ms\n",
      "Speed: 2.3ms preprocess, 145.6ms inference, 0.7ms postprocess per image at shape (1, 3, 480, 640)\n",
      "\n",
      "0: 480x640 1 photo, 140.9ms\n",
      "Speed: 3.1ms preprocess, 140.9ms inference, 0.9ms postprocess per image at shape (1, 3, 480, 640)\n",
      "\n",
      "0: 480x640 1 photo, 144.4ms\n",
      "Speed: 2.7ms preprocess, 144.4ms inference, 0.8ms postprocess per image at shape (1, 3, 480, 640)\n",
      "\n",
      "0: 480x640 1 photo, 143.6ms\n",
      "Speed: 2.5ms preprocess, 143.6ms inference, 0.8ms postprocess per image at shape (1, 3, 480, 640)\n",
      "\n",
      "0: 480x640 1 photo, 158.5ms\n",
      "Speed: 3.7ms preprocess, 158.5ms inference, 0.9ms postprocess per image at shape (1, 3, 480, 640)\n",
      "\n",
      "0: 480x640 1 photo, 153.9ms\n",
      "Speed: 5.1ms preprocess, 153.9ms inference, 1.4ms postprocess per image at shape (1, 3, 480, 640)\n",
      "\n",
      "0: 480x640 1 photo, 147.1ms\n",
      "Speed: 3.3ms preprocess, 147.1ms inference, 1.1ms postprocess per image at shape (1, 3, 480, 640)\n",
      "\n",
      "0: 480x640 1 photo, 140.8ms\n",
      "Speed: 6.2ms preprocess, 140.8ms inference, 1.0ms postprocess per image at shape (1, 3, 480, 640)\n",
      "\n",
      "0: 480x640 1 photo, 138.5ms\n",
      "Speed: 2.4ms preprocess, 138.5ms inference, 0.8ms postprocess per image at shape (1, 3, 480, 640)\n",
      "\n",
      "0: 480x640 1 photo, 150.6ms\n",
      "Speed: 5.1ms preprocess, 150.6ms inference, 1.6ms postprocess per image at shape (1, 3, 480, 640)\n",
      "\n",
      "0: 480x640 1 photo, 140.7ms\n",
      "Speed: 2.6ms preprocess, 140.7ms inference, 0.8ms postprocess per image at shape (1, 3, 480, 640)\n",
      "\n",
      "0: 480x640 1 photo, 165.3ms\n",
      "Speed: 3.0ms preprocess, 165.3ms inference, 0.9ms postprocess per image at shape (1, 3, 480, 640)\n",
      "\n",
      "0: 480x640 1 photo, 145.8ms\n",
      "Speed: 3.8ms preprocess, 145.8ms inference, 1.1ms postprocess per image at shape (1, 3, 480, 640)\n",
      "\n",
      "0: 480x640 1 photo, 143.1ms\n",
      "Speed: 2.6ms preprocess, 143.1ms inference, 1.2ms postprocess per image at shape (1, 3, 480, 640)\n",
      "\n",
      "0: 480x640 1 photo, 141.7ms\n",
      "Speed: 2.7ms preprocess, 141.7ms inference, 0.8ms postprocess per image at shape (1, 3, 480, 640)\n",
      "\n",
      "0: 480x640 1 photo, 148.8ms\n",
      "Speed: 4.1ms preprocess, 148.8ms inference, 0.7ms postprocess per image at shape (1, 3, 480, 640)\n",
      "\n",
      "0: 480x640 1 photo, 145.0ms\n",
      "Speed: 3.4ms preprocess, 145.0ms inference, 1.3ms postprocess per image at shape (1, 3, 480, 640)\n",
      "\n",
      "0: 480x640 1 photo, 145.1ms\n",
      "Speed: 3.0ms preprocess, 145.1ms inference, 1.1ms postprocess per image at shape (1, 3, 480, 640)\n",
      "\n",
      "0: 480x640 1 photo, 148.8ms\n",
      "Speed: 4.1ms preprocess, 148.8ms inference, 1.0ms postprocess per image at shape (1, 3, 480, 640)\n",
      "\n",
      "0: 480x640 1 photo, 143.3ms\n",
      "Speed: 2.5ms preprocess, 143.3ms inference, 0.7ms postprocess per image at shape (1, 3, 480, 640)\n",
      "\n",
      "0: 480x640 1 photo, 140.0ms\n",
      "Speed: 2.9ms preprocess, 140.0ms inference, 1.1ms postprocess per image at shape (1, 3, 480, 640)\n",
      "\n",
      "0: 480x640 1 photo, 142.3ms\n",
      "Speed: 2.7ms preprocess, 142.3ms inference, 0.7ms postprocess per image at shape (1, 3, 480, 640)\n",
      "\n",
      "0: 480x640 1 photo, 159.4ms\n",
      "Speed: 4.0ms preprocess, 159.4ms inference, 1.2ms postprocess per image at shape (1, 3, 480, 640)\n",
      "\n",
      "0: 480x640 1 photo, 154.2ms\n",
      "Speed: 3.5ms preprocess, 154.2ms inference, 1.0ms postprocess per image at shape (1, 3, 480, 640)\n",
      "\n",
      "0: 480x640 1 photo, 142.1ms\n",
      "Speed: 5.3ms preprocess, 142.1ms inference, 0.8ms postprocess per image at shape (1, 3, 480, 640)\n",
      "\n",
      "0: 480x640 1 photo, 150.5ms\n",
      "Speed: 2.3ms preprocess, 150.5ms inference, 0.8ms postprocess per image at shape (1, 3, 480, 640)\n",
      "\n",
      "0: 480x640 1 photo, 143.4ms\n",
      "Speed: 2.4ms preprocess, 143.4ms inference, 0.8ms postprocess per image at shape (1, 3, 480, 640)\n",
      "\n",
      "0: 480x640 1 photo, 144.5ms\n",
      "Speed: 2.8ms preprocess, 144.5ms inference, 0.8ms postprocess per image at shape (1, 3, 480, 640)\n",
      "\n",
      "0: 480x640 1 photo, 136.2ms\n",
      "Speed: 2.9ms preprocess, 136.2ms inference, 0.8ms postprocess per image at shape (1, 3, 480, 640)\n",
      "\n",
      "0: 480x640 1 photo, 142.9ms\n",
      "Speed: 2.8ms preprocess, 142.9ms inference, 0.8ms postprocess per image at shape (1, 3, 480, 640)\n",
      "\n",
      "0: 480x640 1 photo, 138.2ms\n",
      "Speed: 4.0ms preprocess, 138.2ms inference, 1.0ms postprocess per image at shape (1, 3, 480, 640)\n",
      "\n",
      "0: 480x640 1 photo, 136.9ms\n",
      "Speed: 2.6ms preprocess, 136.9ms inference, 0.8ms postprocess per image at shape (1, 3, 480, 640)\n",
      "\n",
      "0: 480x640 1 photo, 146.0ms\n",
      "Speed: 2.0ms preprocess, 146.0ms inference, 0.8ms postprocess per image at shape (1, 3, 480, 640)\n",
      "\n",
      "0: 480x640 1 photo, 141.3ms\n",
      "Speed: 2.8ms preprocess, 141.3ms inference, 0.8ms postprocess per image at shape (1, 3, 480, 640)\n",
      "\n",
      "0: 480x640 1 photo, 135.1ms\n",
      "Speed: 4.2ms preprocess, 135.1ms inference, 0.8ms postprocess per image at shape (1, 3, 480, 640)\n",
      "\n",
      "0: 480x640 1 photo, 140.4ms\n",
      "Speed: 4.5ms preprocess, 140.4ms inference, 0.8ms postprocess per image at shape (1, 3, 480, 640)\n",
      "\n",
      "0: 480x640 1 photo, 140.3ms\n",
      "Speed: 3.9ms preprocess, 140.3ms inference, 1.1ms postprocess per image at shape (1, 3, 480, 640)\n",
      "\n",
      "0: 480x640 1 photo, 142.3ms\n",
      "Speed: 2.6ms preprocess, 142.3ms inference, 0.8ms postprocess per image at shape (1, 3, 480, 640)\n",
      "\n",
      "0: 480x640 1 photo, 148.1ms\n",
      "Speed: 2.5ms preprocess, 148.1ms inference, 1.1ms postprocess per image at shape (1, 3, 480, 640)\n",
      "\n",
      "0: 480x640 1 photo, 140.0ms\n",
      "Speed: 2.8ms preprocess, 140.0ms inference, 1.6ms postprocess per image at shape (1, 3, 480, 640)\n",
      "\n",
      "0: 480x640 1 photo, 141.4ms\n",
      "Speed: 3.5ms preprocess, 141.4ms inference, 0.7ms postprocess per image at shape (1, 3, 480, 640)\n",
      "\n",
      "0: 480x640 1 photo, 132.3ms\n",
      "Speed: 4.3ms preprocess, 132.3ms inference, 0.8ms postprocess per image at shape (1, 3, 480, 640)\n",
      "\n",
      "0: 480x640 1 photo, 145.5ms\n",
      "Speed: 3.7ms preprocess, 145.5ms inference, 0.7ms postprocess per image at shape (1, 3, 480, 640)\n",
      "\n",
      "0: 480x640 1 photo, 137.3ms\n",
      "Speed: 3.3ms preprocess, 137.3ms inference, 0.8ms postprocess per image at shape (1, 3, 480, 640)\n",
      "\n",
      "0: 480x640 1 photo, 148.1ms\n",
      "Speed: 2.8ms preprocess, 148.1ms inference, 0.7ms postprocess per image at shape (1, 3, 480, 640)\n",
      "\n",
      "0: 480x640 1 photo, 160.3ms\n",
      "Speed: 2.6ms preprocess, 160.3ms inference, 0.7ms postprocess per image at shape (1, 3, 480, 640)\n",
      "\n",
      "0: 480x640 1 photo, 144.7ms\n",
      "Speed: 2.4ms preprocess, 144.7ms inference, 0.9ms postprocess per image at shape (1, 3, 480, 640)\n",
      "\n",
      "0: 480x640 1 photo, 150.7ms\n",
      "Speed: 2.3ms preprocess, 150.7ms inference, 1.1ms postprocess per image at shape (1, 3, 480, 640)\n",
      "\n",
      "0: 480x640 1 photo, 147.3ms\n",
      "Speed: 2.5ms preprocess, 147.3ms inference, 0.7ms postprocess per image at shape (1, 3, 480, 640)\n",
      "\n",
      "0: 480x640 1 photo, 135.2ms\n",
      "Speed: 2.1ms preprocess, 135.2ms inference, 1.0ms postprocess per image at shape (1, 3, 480, 640)\n",
      "\n",
      "0: 480x640 1 photo, 149.0ms\n",
      "Speed: 4.9ms preprocess, 149.0ms inference, 1.1ms postprocess per image at shape (1, 3, 480, 640)\n",
      "\n",
      "0: 480x640 1 photo, 146.3ms\n",
      "Speed: 3.0ms preprocess, 146.3ms inference, 0.7ms postprocess per image at shape (1, 3, 480, 640)\n",
      "\n",
      "0: 480x640 1 photo, 146.9ms\n",
      "Speed: 2.6ms preprocess, 146.9ms inference, 2.6ms postprocess per image at shape (1, 3, 480, 640)\n",
      "\n",
      "0: 480x640 1 photo, 136.5ms\n",
      "Speed: 2.3ms preprocess, 136.5ms inference, 0.7ms postprocess per image at shape (1, 3, 480, 640)\n",
      "\n",
      "0: 480x640 1 photo, 141.4ms\n",
      "Speed: 4.2ms preprocess, 141.4ms inference, 0.8ms postprocess per image at shape (1, 3, 480, 640)\n",
      "\n",
      "0: 480x640 1 photo, 146.6ms\n",
      "Speed: 2.3ms preprocess, 146.6ms inference, 0.9ms postprocess per image at shape (1, 3, 480, 640)\n",
      "\n",
      "0: 480x640 1 photo, 137.1ms\n",
      "Speed: 3.1ms preprocess, 137.1ms inference, 0.8ms postprocess per image at shape (1, 3, 480, 640)\n",
      "\n",
      "0: 480x640 1 photo, 143.2ms\n",
      "Speed: 3.2ms preprocess, 143.2ms inference, 0.8ms postprocess per image at shape (1, 3, 480, 640)\n",
      "\n",
      "0: 480x640 1 photo, 138.8ms\n",
      "Speed: 4.0ms preprocess, 138.8ms inference, 0.8ms postprocess per image at shape (1, 3, 480, 640)\n",
      "\n",
      "0: 480x640 1 photo, 143.8ms\n",
      "Speed: 3.8ms preprocess, 143.8ms inference, 0.9ms postprocess per image at shape (1, 3, 480, 640)\n",
      "\n",
      "0: 480x640 1 photo, 143.8ms\n",
      "Speed: 2.9ms preprocess, 143.8ms inference, 1.0ms postprocess per image at shape (1, 3, 480, 640)\n",
      "\n",
      "0: 480x640 1 photo, 154.2ms\n",
      "Speed: 3.5ms preprocess, 154.2ms inference, 0.9ms postprocess per image at shape (1, 3, 480, 640)\n",
      "\n",
      "0: 480x640 1 photo, 148.4ms\n",
      "Speed: 3.5ms preprocess, 148.4ms inference, 1.1ms postprocess per image at shape (1, 3, 480, 640)\n",
      "\n",
      "0: 480x640 1 photo, 136.0ms\n",
      "Speed: 2.1ms preprocess, 136.0ms inference, 0.8ms postprocess per image at shape (1, 3, 480, 640)\n",
      "\n",
      "0: 480x640 1 photo, 145.7ms\n",
      "Speed: 2.3ms preprocess, 145.7ms inference, 0.8ms postprocess per image at shape (1, 3, 480, 640)\n",
      "\n",
      "0: 480x640 1 photo, 140.9ms\n",
      "Speed: 2.1ms preprocess, 140.9ms inference, 1.2ms postprocess per image at shape (1, 3, 480, 640)\n",
      "\n",
      "0: 480x640 1 photo, 155.3ms\n",
      "Speed: 2.5ms preprocess, 155.3ms inference, 1.3ms postprocess per image at shape (1, 3, 480, 640)\n",
      "\n",
      "0: 480x640 1 photo, 140.0ms\n",
      "Speed: 2.2ms preprocess, 140.0ms inference, 1.0ms postprocess per image at shape (1, 3, 480, 640)\n",
      "\n",
      "0: 480x640 1 photo, 144.2ms\n",
      "Speed: 2.4ms preprocess, 144.2ms inference, 0.8ms postprocess per image at shape (1, 3, 480, 640)\n",
      "\n",
      "0: 480x640 1 photo, 139.4ms\n",
      "Speed: 3.4ms preprocess, 139.4ms inference, 0.8ms postprocess per image at shape (1, 3, 480, 640)\n",
      "\n",
      "0: 480x640 1 photo, 148.0ms\n",
      "Speed: 3.8ms preprocess, 148.0ms inference, 1.0ms postprocess per image at shape (1, 3, 480, 640)\n",
      "\n",
      "0: 480x640 1 photo, 142.1ms\n",
      "Speed: 4.3ms preprocess, 142.1ms inference, 0.7ms postprocess per image at shape (1, 3, 480, 640)\n",
      "\n",
      "0: 480x640 1 photo, 134.3ms\n",
      "Speed: 2.4ms preprocess, 134.3ms inference, 0.7ms postprocess per image at shape (1, 3, 480, 640)\n",
      "\n",
      "0: 480x640 1 photo, 138.5ms\n",
      "Speed: 2.5ms preprocess, 138.5ms inference, 1.1ms postprocess per image at shape (1, 3, 480, 640)\n",
      "\n",
      "0: 480x640 1 photo, 136.6ms\n",
      "Speed: 2.4ms preprocess, 136.6ms inference, 0.8ms postprocess per image at shape (1, 3, 480, 640)\n",
      "\n",
      "0: 480x640 1 photo, 138.2ms\n",
      "Speed: 2.4ms preprocess, 138.2ms inference, 1.1ms postprocess per image at shape (1, 3, 480, 640)\n",
      "\n",
      "0: 480x640 1 photo, 158.8ms\n",
      "Speed: 2.3ms preprocess, 158.8ms inference, 0.7ms postprocess per image at shape (1, 3, 480, 640)\n",
      "\n",
      "0: 480x640 1 photo, 143.5ms\n",
      "Speed: 2.7ms preprocess, 143.5ms inference, 0.8ms postprocess per image at shape (1, 3, 480, 640)\n",
      "\n",
      "0: 480x640 1 photo, 156.7ms\n",
      "Speed: 3.8ms preprocess, 156.7ms inference, 1.2ms postprocess per image at shape (1, 3, 480, 640)\n",
      "\n",
      "0: 480x640 1 photo, 144.9ms\n",
      "Speed: 2.9ms preprocess, 144.9ms inference, 2.0ms postprocess per image at shape (1, 3, 480, 640)\n",
      "\n",
      "0: 480x640 1 photo, 147.0ms\n",
      "Speed: 3.7ms preprocess, 147.0ms inference, 0.8ms postprocess per image at shape (1, 3, 480, 640)\n",
      "\n",
      "0: 480x640 1 photo, 146.4ms\n",
      "Speed: 3.2ms preprocess, 146.4ms inference, 0.9ms postprocess per image at shape (1, 3, 480, 640)\n",
      "\n",
      "0: 480x640 1 photo, 143.9ms\n",
      "Speed: 2.8ms preprocess, 143.9ms inference, 0.8ms postprocess per image at shape (1, 3, 480, 640)\n",
      "\n",
      "0: 480x640 1 photo, 133.5ms\n",
      "Speed: 2.5ms preprocess, 133.5ms inference, 0.8ms postprocess per image at shape (1, 3, 480, 640)\n",
      "\n",
      "0: 480x640 1 photo, 137.9ms\n",
      "Speed: 2.6ms preprocess, 137.9ms inference, 0.8ms postprocess per image at shape (1, 3, 480, 640)\n",
      "\n",
      "0: 480x640 1 photo, 141.0ms\n",
      "Speed: 3.6ms preprocess, 141.0ms inference, 0.8ms postprocess per image at shape (1, 3, 480, 640)\n",
      "\n",
      "0: 480x640 1 photo, 320.2ms\n",
      "Speed: 2.3ms preprocess, 320.2ms inference, 2.2ms postprocess per image at shape (1, 3, 480, 640)\n",
      "\n",
      "0: 480x640 1 photo, 140.0ms\n",
      "Speed: 6.8ms preprocess, 140.0ms inference, 0.8ms postprocess per image at shape (1, 3, 480, 640)\n",
      "\n",
      "0: 480x640 1 photo, 141.1ms\n",
      "Speed: 2.8ms preprocess, 141.1ms inference, 1.0ms postprocess per image at shape (1, 3, 480, 640)\n",
      "\n",
      "0: 480x640 1 photo, 136.9ms\n",
      "Speed: 2.0ms preprocess, 136.9ms inference, 0.8ms postprocess per image at shape (1, 3, 480, 640)\n",
      "\n",
      "0: 480x640 1 photo, 128.9ms\n",
      "Speed: 2.2ms preprocess, 128.9ms inference, 0.8ms postprocess per image at shape (1, 3, 480, 640)\n",
      "\n",
      "0: 480x640 1 photo, 144.0ms\n",
      "Speed: 2.4ms preprocess, 144.0ms inference, 1.0ms postprocess per image at shape (1, 3, 480, 640)\n"
     ]
    }
   ],
   "source": [
    "from ultralytics import YOLO\n",
    "import cv2\n",
    "\n",
    "# Load the trained model\n",
    "model = YOLO(\"runs/detect/train8/weights/best.pt\")\n",
    "\n",
    "# Open webcam (0 for default webcam, change if using an external webcam)\n",
    "cap = cv2.VideoCapture(0)\n",
    "\n",
    "while cap.isOpened():\n",
    "    ret, frame = cap.read()\n",
    "    if not ret:\n",
    "        break  # Exit if the frame is not read properly\n",
    "\n",
    "    # Run YOLOv8 on the frame\n",
    "    results = model(frame)\n",
    "\n",
    "    # Process results\n",
    "    for r in results:\n",
    "        # Filter detections based on confidence threshold (0.7 = 70%)\n",
    "        filtered_detections = r.boxes[r.boxes.conf > 0.7]\n",
    "\n",
    "        # If there are filtered detections, plot them\n",
    "        if len(filtered_detections) > 0:\n",
    "            r.boxes = filtered_detections  # Update the result boxes\n",
    "            annotated_frame = r.plot()  # Plot detected objects\n",
    "        else:\n",
    "            annotated_frame = frame  # Show original frame if no detections\n",
    "\n",
    "    # Show the output frame\n",
    "    cv2.imshow(\"Pancard Card Detection\", annotated_frame)\n",
    "\n",
    "    # Press 'q' to exit the loop\n",
    "    if cv2.waitKey(1) & 0xFF == ord('q'):\n",
    "        break\n",
    "\n",
    "# Release resources\n",
    "cap.release()\n",
    "cv2.destroyAllWindows()\n"
   ]
  },
  {
   "cell_type": "code",
   "execution_count": null,
   "metadata": {},
   "outputs": [
    {
     "name": "stdout",
     "output_type": "stream",
     "text": [
      "\n",
      "0: 384x640 1 photo, 377.5ms\n",
      "Speed: 5.2ms preprocess, 377.5ms inference, 2.9ms postprocess per image at shape (1, 3, 384, 640)\n",
      "\n",
      "0: 384x640 1 photo, 277.4ms\n",
      "Speed: 12.9ms preprocess, 277.4ms inference, 1.1ms postprocess per image at shape (1, 3, 384, 640)\n",
      "\n",
      "0: 384x640 1 photo, 241.6ms\n",
      "Speed: 5.3ms preprocess, 241.6ms inference, 0.9ms postprocess per image at shape (1, 3, 384, 640)\n",
      "\n",
      "0: 384x640 1 photo, 210.0ms\n",
      "Speed: 17.9ms preprocess, 210.0ms inference, 0.8ms postprocess per image at shape (1, 3, 384, 640)\n",
      "\n",
      "0: 384x640 1 photo, 142.4ms\n",
      "Speed: 3.4ms preprocess, 142.4ms inference, 0.8ms postprocess per image at shape (1, 3, 384, 640)\n",
      "\n",
      "0: 384x640 1 photo, 138.4ms\n",
      "Speed: 8.8ms preprocess, 138.4ms inference, 0.8ms postprocess per image at shape (1, 3, 384, 640)\n",
      "\n",
      "0: 384x640 1 photo, 150.9ms\n",
      "Speed: 10.3ms preprocess, 150.9ms inference, 0.8ms postprocess per image at shape (1, 3, 384, 640)\n",
      "\n",
      "0: 384x640 1 photo, 171.4ms\n",
      "Speed: 5.5ms preprocess, 171.4ms inference, 0.8ms postprocess per image at shape (1, 3, 384, 640)\n",
      "\n",
      "0: 384x640 1 photo, 151.2ms\n",
      "Speed: 5.5ms preprocess, 151.2ms inference, 0.9ms postprocess per image at shape (1, 3, 384, 640)\n",
      "\n",
      "0: 384x640 1 photo, 144.2ms\n",
      "Speed: 4.6ms preprocess, 144.2ms inference, 0.8ms postprocess per image at shape (1, 3, 384, 640)\n",
      "\n",
      "0: 384x640 1 photo, 142.6ms\n",
      "Speed: 14.0ms preprocess, 142.6ms inference, 1.2ms postprocess per image at shape (1, 3, 384, 640)\n",
      "\n",
      "0: 384x640 1 photo, 147.9ms\n",
      "Speed: 5.7ms preprocess, 147.9ms inference, 1.0ms postprocess per image at shape (1, 3, 384, 640)\n",
      "\n",
      "0: 384x640 1 photo, 129.3ms\n",
      "Speed: 5.0ms preprocess, 129.3ms inference, 0.7ms postprocess per image at shape (1, 3, 384, 640)\n",
      "\n",
      "0: 384x640 1 photo, 127.7ms\n",
      "Speed: 4.3ms preprocess, 127.7ms inference, 0.9ms postprocess per image at shape (1, 3, 384, 640)\n",
      "\n",
      "0: 384x640 1 photo, 134.8ms\n",
      "Speed: 3.1ms preprocess, 134.8ms inference, 1.0ms postprocess per image at shape (1, 3, 384, 640)\n",
      "\n",
      "0: 384x640 1 photo, 283.8ms\n",
      "Speed: 6.8ms preprocess, 283.8ms inference, 0.9ms postprocess per image at shape (1, 3, 384, 640)\n",
      "\n",
      "0: 384x640 1 photo, 136.9ms\n",
      "Speed: 9.3ms preprocess, 136.9ms inference, 1.1ms postprocess per image at shape (1, 3, 384, 640)\n",
      "\n",
      "0: 384x640 1 photo, 307.2ms\n",
      "Speed: 13.3ms preprocess, 307.2ms inference, 0.9ms postprocess per image at shape (1, 3, 384, 640)\n",
      "\n",
      "0: 384x640 1 photo, 135.1ms\n",
      "Speed: 3.0ms preprocess, 135.1ms inference, 0.8ms postprocess per image at shape (1, 3, 384, 640)\n",
      "\n",
      "0: 384x640 1 photo, 129.7ms\n",
      "Speed: 5.7ms preprocess, 129.7ms inference, 0.8ms postprocess per image at shape (1, 3, 384, 640)\n",
      "\n",
      "0: 384x640 1 photo, 130.2ms\n",
      "Speed: 4.1ms preprocess, 130.2ms inference, 0.8ms postprocess per image at shape (1, 3, 384, 640)\n",
      "\n",
      "0: 384x640 1 photo, 129.2ms\n",
      "Speed: 10.7ms preprocess, 129.2ms inference, 0.7ms postprocess per image at shape (1, 3, 384, 640)\n",
      "\n",
      "0: 384x640 2 photos, 142.8ms\n",
      "Speed: 6.2ms preprocess, 142.8ms inference, 0.7ms postprocess per image at shape (1, 3, 384, 640)\n"
     ]
    }
   ],
   "source": [
    "from ultralytics import YOLO\n",
    "import cv2\n",
    "import pytesseract\n",
    "\n",
    "# Set the full path to the Tesseract executable(Linux)\n",
    "pytesseract.pytesseract.tesseract_cmd = \"/usr/bin/tesseract\"\n",
    "\n",
    "# Load the trained YOLO model\n",
    "model = YOLO(\"runs/detect/train8/weights/best.pt\")\n",
    "\n",
    "\n",
    "# Open webcam (0 for default webcam)\n",
    "cap = cv2.VideoCapture(\"/home/neosoft/Downloads/VID20250330154018.mp4\")\n",
    "\n",
    "\n",
    "\n",
    "while cap.isOpened():\n",
    "    ret, frame = cap.read()\n",
    "    if not ret:\n",
    "        break  # Exit if the frame is not read properly\n",
    "\n",
    "    # Run YOLO on the frame\n",
    "    results = model(frame)\n",
    "\n",
    "    for r in results:\n",
    "        annotated_frame = r.plot()  # Plot detected objects\n",
    "\n",
    "        # Loop through detected objects\n",
    "        for box in r.boxes.xyxy:  # Get bounding box coordinates (x1, y1, x2, y2)\n",
    "            x1, y1, x2, y2 = map(int, box)\n",
    "\n",
    "            # Extract detected Aadhaar card region\n",
    "            roi = frame[y1:y2, x1:x2]\n",
    "\n",
    "            # Convert ROI to grayscale for better OCR accuracy\n",
    "            gray_roi = cv2.cvtColor(roi, cv2.COLOR_BGR2GRAY)\n",
    "\n",
    "            # Apply preprocessing for better OCR\n",
    "            gray_roi = cv2.threshold(gray_roi, 0, 255, cv2.THRESH_BINARY + cv2.THRESH_OTSU)[1]\n",
    "            gray_roi = cv2.GaussianBlur(gray_roi, (3, 3), 0)\n",
    "\n",
    "            # Apply OCR (Ensure Tesseract is installed and configured)\n",
    "            text = pytesseract.image_to_string(gray_roi, config='--psm 6')\n",
    "\n",
    "            # Clean up extracted text (remove extra spaces & newlines)\n",
    "            text = text.strip()\n",
    "\n",
    "            # Draw bounding box\n",
    "            cv2.rectangle(annotated_frame, (x1, y1), (x2, y2), (0, 255, 0), 2)\n",
    "\n",
    "            # Display extracted text on bounding box\n",
    "            cv2.putText(annotated_frame, text, (x1, y1 - 10), cv2.FONT_HERSHEY_SIMPLEX, 0.6, (0, 255, 0), 2, cv2.LINE_AA)\n",
    "\n",
    "    # Show output frame\n",
    "    cv2.imshow(\"Aadhaar Card Detection\", annotated_frame)\n",
    "\n",
    "    # Press 'q' to exit\n",
    "    if cv2.waitKey(1) & 0xFF == ord('q'):\n",
    "        break\n",
    "\n",
    "# Release resources\n",
    "cap.release()\n",
    "cv2.destroyAllWindows()\n"
   ]
  },
  {
   "cell_type": "code",
   "execution_count": 8,
   "metadata": {},
   "outputs": [
    {
     "name": "stdout",
     "output_type": "stream",
     "text": [
      "\n",
      "0: 640x640 2 photos, 247.3ms\n",
      "Speed: 19.1ms preprocess, 247.3ms inference, 13.6ms postprocess per image at shape (1, 3, 640, 640)\n",
      "\n",
      "0: 640x640 2 photos, 204.5ms\n",
      "Speed: 4.9ms preprocess, 204.5ms inference, 1.0ms postprocess per image at shape (1, 3, 640, 640)\n",
      "\n",
      "0: 640x640 2 photos, 214.0ms\n",
      "Speed: 3.8ms preprocess, 214.0ms inference, 1.2ms postprocess per image at shape (1, 3, 640, 640)\n",
      "\n",
      "0: 640x640 2 photos, 216.7ms\n",
      "Speed: 4.3ms preprocess, 216.7ms inference, 1.7ms postprocess per image at shape (1, 3, 640, 640)\n",
      "\n",
      "0: 640x640 2 photos, 177.5ms\n",
      "Speed: 2.9ms preprocess, 177.5ms inference, 0.9ms postprocess per image at shape (1, 3, 640, 640)\n",
      "\n",
      "0: 640x640 2 photos, 197.1ms\n",
      "Speed: 2.9ms preprocess, 197.1ms inference, 1.0ms postprocess per image at shape (1, 3, 640, 640)\n",
      "\n",
      "0: 640x640 2 photos, 174.5ms\n",
      "Speed: 4.5ms preprocess, 174.5ms inference, 1.4ms postprocess per image at shape (1, 3, 640, 640)\n",
      "\n",
      "0: 640x640 2 photos, 183.8ms\n",
      "Speed: 3.4ms preprocess, 183.8ms inference, 1.0ms postprocess per image at shape (1, 3, 640, 640)\n",
      "\n",
      "0: 640x640 2 photos, 205.4ms\n",
      "Speed: 3.0ms preprocess, 205.4ms inference, 1.8ms postprocess per image at shape (1, 3, 640, 640)\n",
      "\n",
      "0: 640x640 2 photos, 184.6ms\n",
      "Speed: 3.0ms preprocess, 184.6ms inference, 0.9ms postprocess per image at shape (1, 3, 640, 640)\n",
      "\n",
      "0: 640x640 2 photos, 179.0ms\n",
      "Speed: 3.0ms preprocess, 179.0ms inference, 0.9ms postprocess per image at shape (1, 3, 640, 640)\n",
      "\n",
      "0: 640x640 2 photos, 534.5ms\n",
      "Speed: 4.5ms preprocess, 534.5ms inference, 1.3ms postprocess per image at shape (1, 3, 640, 640)\n",
      "\n",
      "0: 640x640 2 photos, 225.4ms\n",
      "Speed: 5.7ms preprocess, 225.4ms inference, 1.5ms postprocess per image at shape (1, 3, 640, 640)\n",
      "\n",
      "0: 640x640 2 photos, 188.0ms\n",
      "Speed: 5.6ms preprocess, 188.0ms inference, 0.9ms postprocess per image at shape (1, 3, 640, 640)\n",
      "\n",
      "0: 640x640 2 photos, 196.4ms\n",
      "Speed: 5.0ms preprocess, 196.4ms inference, 1.4ms postprocess per image at shape (1, 3, 640, 640)\n",
      "\n",
      "0: 640x640 2 photos, 250.9ms\n",
      "Speed: 6.3ms preprocess, 250.9ms inference, 3.4ms postprocess per image at shape (1, 3, 640, 640)\n",
      "\n",
      "0: 640x640 2 photos, 249.6ms\n",
      "Speed: 3.0ms preprocess, 249.6ms inference, 0.9ms postprocess per image at shape (1, 3, 640, 640)\n",
      "\n",
      "0: 640x640 2 photos, 181.1ms\n",
      "Speed: 3.0ms preprocess, 181.1ms inference, 0.8ms postprocess per image at shape (1, 3, 640, 640)\n",
      "\n",
      "0: 640x640 2 photos, 175.6ms\n",
      "Speed: 3.6ms preprocess, 175.6ms inference, 1.1ms postprocess per image at shape (1, 3, 640, 640)\n",
      "\n",
      "0: 640x640 1 photo, 254.8ms\n",
      "Speed: 3.9ms preprocess, 254.8ms inference, 0.9ms postprocess per image at shape (1, 3, 640, 640)\n",
      "\n",
      "0: 640x640 1 photo, 183.5ms\n",
      "Speed: 3.1ms preprocess, 183.5ms inference, 0.8ms postprocess per image at shape (1, 3, 640, 640)\n",
      "\n",
      "0: 640x640 1 photo, 185.9ms\n",
      "Speed: 5.6ms preprocess, 185.9ms inference, 0.9ms postprocess per image at shape (1, 3, 640, 640)\n"
     ]
    }
   ],
   "source": [
    "from ultralytics import YOLO\n",
    "import cv2\n",
    "import pytesseract\n",
    "\n",
    "# Set the full path to the Tesseract executable (Linux)\n",
    "pytesseract.pytesseract.tesseract_cmd = \"/usr/bin/tesseract\"\n",
    "\n",
    "# Load the trained YOLO model\n",
    "model = YOLO(\"runs/detect/train8/weights/best.pt\")\n",
    "\n",
    "# Open video file\n",
    "cap = cv2.VideoCapture(\"/home/neosoft/Downloads/MicrosoftTeams-video.mp4\")\n",
    "\n",
    "# Define new frame size\n",
    "new_width, new_height = 640, 640  # Resize to YOLO's expected input size\n",
    "\n",
    "while cap.isOpened():\n",
    "    ret, frame = cap.read()\n",
    "    if not ret:\n",
    "        break  # Exit if the frame is not read properly\n",
    "\n",
    "    # Resize the frame\n",
    "    frame = cv2.resize(frame, (new_width, new_height))\n",
    "\n",
    "    # Run YOLO on the resized frame\n",
    "    results = model(frame)\n",
    "\n",
    "    for r in results:\n",
    "        annotated_frame = r.plot()  # Plot detected objects\n",
    "\n",
    "        # Loop through detected objects\n",
    "        for box in r.boxes.xyxy:  # Get bounding box coordinates (x1, y1, x2, y2)\n",
    "            x1, y1, x2, y2 = map(int, box)\n",
    "\n",
    "            # Extract detected Aadhaar card region\n",
    "            roi = frame[y1:y2, x1:x2]\n",
    "\n",
    "            # Convert ROI to grayscale for better OCR accuracy\n",
    "            gray_roi = cv2.cvtColor(roi, cv2.COLOR_BGR2GRAY)\n",
    "\n",
    "            # Apply preprocessing for better OCR\n",
    "            gray_roi = cv2.threshold(gray_roi, 0, 255, cv2.THRESH_BINARY + cv2.THRESH_OTSU)[1]\n",
    "            gray_roi = cv2.GaussianBlur(gray_roi, (3, 3), 0)\n",
    "\n",
    "            # Apply OCR (Ensure Tesseract is installed and configured)\n",
    "            text = pytesseract.image_to_string(gray_roi, config='--psm 6')\n",
    "\n",
    "            # Clean up extracted text (remove extra spaces & newlines)\n",
    "            text = text.strip()\n",
    "\n",
    "            # Draw bounding box\n",
    "            cv2.rectangle(annotated_frame, (x1, y1), (x2, y2), (0, 255, 0), 2)\n",
    "\n",
    "            # Display extracted text on bounding box\n",
    "            cv2.putText(annotated_frame, text, (x1, y1 - 10), cv2.FONT_HERSHEY_SIMPLEX, 0.6, (0, 255, 0), 2, cv2.LINE_AA)\n",
    "\n",
    "    # Show output frame\n",
    "    cv2.imshow(\"Aadhaar Card Detection\", annotated_frame)\n",
    "\n",
    "    # Press 'q' to exit\n",
    "    if cv2.waitKey(1) & 0xFF == ord('q'):\n",
    "        break\n",
    "\n",
    "# Release resources\n",
    "cap.release()\n",
    "cv2.destroyAllWindows()\n"
   ]
  }
 ],
 "metadata": {
  "kernelspec": {
   "display_name": "pancard_env",
   "language": "python",
   "name": "python3"
  },
  "language_info": {
   "codemirror_mode": {
    "name": "ipython",
    "version": 3
   },
   "file_extension": ".py",
   "mimetype": "text/x-python",
   "name": "python",
   "nbconvert_exporter": "python",
   "pygments_lexer": "ipython3",
   "version": "3.10.12"
  }
 },
 "nbformat": 4,
 "nbformat_minor": 2
}
